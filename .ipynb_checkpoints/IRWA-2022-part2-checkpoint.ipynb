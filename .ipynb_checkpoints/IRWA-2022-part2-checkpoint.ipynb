{
 "cells": [
  {
   "cell_type": "markdown",
   "id": "2009a40c",
   "metadata": {},
   "source": [
    "Nil Agell u172941\n",
    "\n",
    "Jordi Badia u173484"
   ]
  },
  {
   "cell_type": "markdown",
   "id": "6b29d290",
   "metadata": {},
   "source": [
    "# PART 1 - Text Processing"
   ]
  },
  {
   "cell_type": "code",
   "execution_count": 157,
   "id": "edec1693",
   "metadata": {},
   "outputs": [
    {
     "name": "stderr",
     "output_type": "stream",
     "text": [
      "[nltk_data] Downloading package stopwords to\n",
      "[nltk_data]     C:\\Users\\jordi\\AppData\\Roaming\\nltk_data...\n",
      "[nltk_data]   Package stopwords is already up-to-date!\n"
     ]
    },
    {
     "data": {
      "text/plain": [
       "True"
      ]
     },
     "execution_count": 157,
     "metadata": {},
     "output_type": "execute_result"
    }
   ],
   "source": [
    "# if you do not have 'nltk', the following command should work \"python -m pip install nltk\"\n",
    "import nltk\n",
    "nltk.download('stopwords')"
   ]
  },
  {
   "cell_type": "code",
   "execution_count": 158,
   "id": "8d1d20e0",
   "metadata": {},
   "outputs": [],
   "source": [
    "from collections import defaultdict\n",
    "from array import array\n",
    "from nltk.stem import PorterStemmer\n",
    "from nltk.corpus import stopwords\n",
    "import math\n",
    "import numpy as np\n",
    "import collections\n",
    "from numpy import linalg as la\n",
    "import re\n",
    "import json"
   ]
  },
  {
   "cell_type": "markdown",
   "id": "7f68a1be",
   "metadata": {},
   "source": [
    "Abrimos el documento json y leemos linea a linea. Una vez leidas las lineas, cargamos el json y podremos comprobar que hay un total de 400 tweets:"
   ]
  },
  {
   "cell_type": "code",
   "execution_count": 159,
   "id": "e0020c53",
   "metadata": {},
   "outputs": [
    {
     "name": "stdout",
     "output_type": "stream",
     "text": [
      "Number of tweets: 4000\n"
     ]
    }
   ],
   "source": [
    "docs_path = '/Users/jordi/Documents/UNI/4rt Curs/1r Trim/IRWA/P1-IRWA/tw_hurricane_data.json'\n",
    "with open(docs_path) as fp:\n",
    "    lines = fp.readlines()\n",
    "\n",
    "print('Number of tweets:', len(lines))\n",
    "lines = [json.loads(l) for l in lines]"
   ]
  },
  {
   "cell_type": "markdown",
   "id": "ecba002b",
   "metadata": {},
   "source": [
    "Tambien abrimos el documento csv, que nos permitirá hacer un map de los tweets id con los document ids."
   ]
  },
  {
   "cell_type": "code",
   "execution_count": 160,
   "id": "74340a79",
   "metadata": {},
   "outputs": [
    {
     "name": "stderr",
     "output_type": "stream",
     "text": [
      "C:\\Users\\jordi\\anaconda3\\lib\\site-packages\\IPython\\core\\interactiveshell.py:3444: FutureWarning: In a future version of pandas all arguments of read_csv except for the argument 'filepath_or_buffer' will be keyword-only\n",
      "  exec(code_obj, self.user_global_ns, self.user_ns)\n"
     ]
    },
    {
     "data": {
      "text/html": [
       "<div>\n",
       "<style scoped>\n",
       "    .dataframe tbody tr th:only-of-type {\n",
       "        vertical-align: middle;\n",
       "    }\n",
       "\n",
       "    .dataframe tbody tr th {\n",
       "        vertical-align: top;\n",
       "    }\n",
       "\n",
       "    .dataframe thead th {\n",
       "        text-align: right;\n",
       "    }\n",
       "</style>\n",
       "<table border=\"1\" class=\"dataframe\">\n",
       "  <thead>\n",
       "    <tr style=\"text-align: right;\">\n",
       "      <th></th>\n",
       "      <th>doc</th>\n",
       "      <th>id</th>\n",
       "    </tr>\n",
       "  </thead>\n",
       "  <tbody>\n",
       "    <tr>\n",
       "      <th>0</th>\n",
       "      <td>doc_1</td>\n",
       "      <td>1575918182698979328</td>\n",
       "    </tr>\n",
       "    <tr>\n",
       "      <th>1</th>\n",
       "      <td>doc_2</td>\n",
       "      <td>1575918151862304768</td>\n",
       "    </tr>\n",
       "    <tr>\n",
       "      <th>2</th>\n",
       "      <td>doc_3</td>\n",
       "      <td>1575918140839673873</td>\n",
       "    </tr>\n",
       "    <tr>\n",
       "      <th>3</th>\n",
       "      <td>doc_4</td>\n",
       "      <td>1575918135009738752</td>\n",
       "    </tr>\n",
       "    <tr>\n",
       "      <th>4</th>\n",
       "      <td>doc_5</td>\n",
       "      <td>1575918119251419136</td>\n",
       "    </tr>\n",
       "  </tbody>\n",
       "</table>\n",
       "</div>"
      ],
      "text/plain": [
       "     doc                   id\n",
       "0  doc_1  1575918182698979328\n",
       "1  doc_2  1575918151862304768\n",
       "2  doc_3  1575918140839673873\n",
       "3  doc_4  1575918135009738752\n",
       "4  doc_5  1575918119251419136"
      ]
     },
     "execution_count": 160,
     "metadata": {},
     "output_type": "execute_result"
    }
   ],
   "source": [
    "import pandas as pd\n",
    "# define the dataset location\n",
    "filename = 'tweet_document_ids_map.csv'\n",
    "sep=\"\\t\"\n",
    "# Set Pandas to show all the columns\n",
    "pd.set_option('display.max_columns', None)\n",
    "# Read the data as a dataframe\n",
    "data = pd.read_csv(filename,sep,names=[\"doc\", \"id\"])\n",
    "data.head()"
   ]
  },
  {
   "cell_type": "code",
   "execution_count": 161,
   "id": "2ec934a3",
   "metadata": {},
   "outputs": [],
   "source": [
    "def build_terms(line):\n",
    "    \"\"\"\n",
    "    Preprocess the tweet text removing stop words, stemming,\n",
    "    transforming in lowercase and return the tokens of the text.\n",
    "    \n",
    "    Argument:\n",
    "    line -- string (text) to be preprocessed\n",
    "    \n",
    "    Returns:\n",
    "    line - a list of tokens corresponding to the input text after the preprocessing\n",
    "    \"\"\"\n",
    "\n",
    "    stemmer = PorterStemmer()\n",
    "    stop_words = set(stopwords.words(\"english\"))\n",
    "    ## START CODE\n",
    "    line=  line.lower() ## Transform in lowercase\n",
    "    line=  line.split() ## Tokenize the text to get a list of terms\n",
    "    tweet_text=[]\n",
    "    for word in line:\n",
    "        #let's try to maintain the links in the correct format for the last part\n",
    "        if \"https\" not in word: #we maintain the # and @ because have relevance and we delete all the punctuation\n",
    "            word = re.sub(r'[^\\w\\s#@]','', word)\n",
    "            word = re.sub(r'_','',word)\n",
    "\n",
    "        if word:\n",
    "            tweet_text.append(word) \n",
    "            \n",
    "    line=[word for word in tweet_text if not word in stop_words]  ##eliminate the stopwords (HINT: use List Comprehension)\n",
    "    line=[stemmer.stem(word) for word in line] ## perform stemming (HINT: use List Comprehension)\n",
    "    ## END CODE\n",
    "    return line"
   ]
  },
  {
   "cell_type": "markdown",
   "id": "ab907dd5",
   "metadata": {},
   "source": [
    "We create the index tfidf (also provided with the class code ):"
   ]
  },
  {
   "cell_type": "code",
   "execution_count": 162,
   "id": "3e029d2c",
   "metadata": {},
   "outputs": [],
   "source": [
    "def create_index_tfidf(tweets, num_documents):\n",
    "    \"\"\"\n",
    "    Implement the inverted index and compute tf, df and idf\n",
    "    \n",
    "    Argument:\n",
    "    lines -- collection of Wikipedia articles\n",
    "    num_documents -- total number of documents\n",
    "    \n",
    "    Returns:\n",
    "    index - the inverted index (implemented through a Python dictionary) containing terms as keys and the corresponding\n",
    "    list of document these keys appears in (and the positions) as values.\n",
    "    tf - normalized term frequency for each term in each document\n",
    "    df - number of documents each term appear in\n",
    "    idf - inverse document frequency of each term\n",
    "    \"\"\"\n",
    "\n",
    "    index = defaultdict(list)\n",
    "    tf = defaultdict(list)  #term frequencies of terms in documents (documents in the same order as in the main index)\n",
    "    df = defaultdict(int)  #document frequencies of terms in the input document\n",
    "    idf = defaultdict(float)\n",
    "\n",
    "    for tweet in tweets:\n",
    "        tw_id = tweet['id']\n",
    "        terms = build_terms(tweet['full_text'])\n",
    "        for i in range(len(data)):\n",
    "            if data['id'][i] == tw_id:\n",
    "                doc_id = data['doc'][i]\n",
    "\n",
    "        ## ===============================================================        \n",
    "        ## create the index for the **current page** and store it in current_page_index\n",
    "        ## current_doc_index ==> { ‘term1’: [current_doc, [list of positions]], ...,‘term_n’: [current_doc, [list of positions]]}\n",
    "\n",
    "\n",
    "        ## current_page_index ==> { ‘web’: [1, [0]], ‘retrieval’: [1, [1,4]], ‘information’: [1, [2]]}\n",
    "\n",
    "        ## the term ‘web’ appears in document 1 in positions 0, \n",
    "        ## the term ‘retrieval’ appears in document 1 in positions 1 and 4\n",
    "        ## ===============================================================\n",
    "\n",
    "        current_doc_index = {}\n",
    "\n",
    "        for position, term in enumerate(terms):  ## terms contains tweet text\n",
    "            try:\n",
    "                # if the term is already in the dict append the position to the corresponding list\n",
    "                current_doc_index[term][1].append(position) \n",
    "            except:\n",
    "                # Add the new term as dict key and initialize the array of positions and add the position\n",
    "                current_doc_index[term] = [doc_id, array('I', [position])]  #'I' indicates unsigned int (int in Python)\n",
    "\n",
    "        # normalize term frequencies\n",
    "        # Compute the denominator to normalize term frequencies (formula 2 above)\n",
    "        # norm is the same for all terms of a document.\n",
    "        norm = 0\n",
    "        for term, posting in current_doc_index.items():\n",
    "            # posting will contain the list of positions for current term in current document. \n",
    "            # posting ==> [current_doc, [list of positions]] \n",
    "            # you can use it to infer the frequency of current term.\n",
    "            norm += len(posting[1]) ** 2\n",
    "        norm = math.sqrt(norm)\n",
    "\n",
    "        #calculate the tf(dividing the term frequency by the above computed norm) and df weights\n",
    "        for term, posting in current_doc_index.items():\n",
    "            # append the tf for current term (tf = term frequency in current doc/norm)\n",
    "            tf[term].append(np.round(len(posting[1]) / norm, 4)) ## SEE formula (1) above\n",
    "            #increment the document frequency of current term (number of documents containing the current term)\n",
    "            df[term] += 1 # increment DF for current term\n",
    "\n",
    "        #merge the current doc index with the main index\n",
    "        for term_doc, posting_doc in current_doc_index.items():\n",
    "            index[term_doc].append(posting_doc)\n",
    "\n",
    "        # Compute IDF following the formula (3) above. HINT: use np.log\n",
    "        for term in df:\n",
    "            idf[term] = np.round(np.log(float(num_documents / df[term])), 4)\n",
    "\n",
    "    return index, tf, df, idf"
   ]
  },
  {
   "cell_type": "markdown",
   "id": "09ab6fe7",
   "metadata": {},
   "source": [
    "We generate the new indexing:"
   ]
  },
  {
   "cell_type": "code",
   "execution_count": 163,
   "id": "ea7e3c52",
   "metadata": {},
   "outputs": [
    {
     "name": "stdout",
     "output_type": "stream",
     "text": [
      "Total time to create the TD-IDF index: 886.17 seconds\n"
     ]
    }
   ],
   "source": [
    "import time\n",
    "start_time = time.time()\n",
    "num_documents = len(lines)\n",
    "index, tf, df, idf = create_index_tfidf(lines, num_documents)\n",
    "print(\"Total time to create the TD-IDF index: {} seconds\" .format(np.round(time.time() - start_time, 2)))"
   ]
  },
  {
   "cell_type": "markdown",
   "id": "73b84f71",
   "metadata": {},
   "source": [
    "We rank the documents with the provided function in class:"
   ]
  },
  {
   "cell_type": "code",
   "execution_count": 164,
   "id": "8a9a4029",
   "metadata": {},
   "outputs": [],
   "source": [
    "def rank_documents(terms, docs, index, idf, tf):\n",
    "    \"\"\"\n",
    "    Perform the ranking of the results of a search based on the tf-idf weights\n",
    "    \n",
    "    Argument:\n",
    "    terms -- list of query terms\n",
    "    docs -- list of documents, to rank, matching the query\n",
    "    index -- inverted index data structure\n",
    "    idf -- inverted document frequencies\n",
    "    tf -- term frequencies\n",
    "\n",
    "    \n",
    "    Returns:\n",
    "    Print the list of ranked documents\n",
    "    \"\"\"\n",
    "\n",
    "    # I'm interested only on the element of the docVector corresponding to the query terms \n",
    "    # The remaining elements would became 0 when multiplied to the query_vector\n",
    "    doc_vectors = defaultdict(lambda: [0] * len(terms)) # I call doc_vectors[k] for a nonexistent key k, the key-value pair (k,[0]*len(terms)) will be automatically added to the dictionary\n",
    "    query_vector = [0] * len(terms)\n",
    "\n",
    "    # compute the norm for the query tf\n",
    "    query_terms_count = collections.Counter(terms)  # get the frequency of each term in the query. \n",
    "    # Example: collections.Counter([\"hello\",\"hello\",\"world\"]) --> Counter({'hello': 2, 'world': 1})\n",
    "    #HINT: use when computing tf for query_vector\n",
    "\n",
    "    query_norm = la.norm(list(query_terms_count.values()))\n",
    "\n",
    "    for termIndex, term in enumerate(terms):  #termIndex is the index of the term in the query\n",
    "        if term not in index:\n",
    "            continue\n",
    "\n",
    "        # TODO: check how to vectorize the query\n",
    "        # query_vector[termIndex]=idf[term]  # original\n",
    "        ## Compute tf*idf(normalize TF as done with documents)\n",
    "        query_vector[termIndex] = query_terms_count[term] / query_norm * idf[term]\n",
    "\n",
    "        # Generate doc_vectors for matching docs\n",
    "        for doc_index, (doc, postings) in enumerate(index[term]):\n",
    "            # Example of [doc_index, (doc, postings)]\n",
    "            # 0 (26, array('I', [1, 4, 12, 15, 22, 28, 32, 43, 51, 68, 333, 337]))\n",
    "            # 1 (33, array('I', [26, 33, 57, 71, 87, 104, 109]))\n",
    "            # term is in doc 26 in positions 1,4, .....\n",
    "            # term is in doc 33 in positions 26,33, .....\n",
    "\n",
    "            #tf[term][0] will contain the tf of the term \"term\" in the doc 26            \n",
    "            if doc in docs:\n",
    "                doc_vectors[doc][termIndex] = tf[term][doc_index] * idf[term]  # TODO: check if multiply for idf\n",
    "\n",
    "    # Calculate the score of each doc \n",
    "    # compute the cosine similarity between queyVector and each docVector:\n",
    "    # HINT: you can use the dot product because in case of normalized vectors it corresponds to the cosine similarity\n",
    "    # see np.dot\n",
    "    \n",
    "    doc_scores = [[np.dot(curDocVec, query_vector), doc] for doc, curDocVec in doc_vectors.items()]\n",
    "    doc_scores.sort(reverse=True)\n",
    "    result_docs = [x[1] for x in doc_scores]\n",
    "    #print document titles instead if document id's\n",
    "    #result_docs=[ title_index[x] for x in result_docs ]\n",
    "    if len(result_docs) == 0:\n",
    "        print(\"No results found, try again\")\n",
    "        query = input()\n",
    "        docs = search_tf_idf(query, index)\n",
    "    #print ('\\n'.join(result_docs), '\\n')\n",
    "    return result_docs, doc_scores"
   ]
  },
  {
   "cell_type": "markdown",
   "id": "033c5034",
   "metadata": {},
   "source": [
    "We get the ranked list of docs by getting the id of the docs that contain the query term:"
   ]
  },
  {
   "cell_type": "code",
   "execution_count": 177,
   "id": "ce8877ee",
   "metadata": {},
   "outputs": [],
   "source": [
    "def search_tf_idf(query, index):\n",
    "    \"\"\"\n",
    "    output is the list of documents that contain any of the query terms. \n",
    "    So, we will get the list of documents for each query term, and take the union of them.\n",
    "    \"\"\"\n",
    "    query = build_terms(query)\n",
    "    docs = set()\n",
    "    for term in query:\n",
    "        try:\n",
    "            # store in term_docs the ids of the docs that contain \"term\"                        \n",
    "            term_docs = [posting[0] for posting in index[term]]\n",
    "            \n",
    "            # docs = docs Union term_docs\n",
    "            docs |= set(term_docs)\n",
    "        except:\n",
    "            #term is not in index\n",
    "            pass\n",
    "    docs = list(docs)\n",
    "    ranked_docs, doc_scores = rank_documents(query, docs, index, idf, tf)\n",
    "    return ranked_docs , doc_scores"
   ]
  },
  {
   "cell_type": "markdown",
   "id": "3052e0ad",
   "metadata": {},
   "source": [
    "We create an auxiliary function to list the hashtags of a tweet:"
   ]
  },
  {
   "cell_type": "code",
   "execution_count": 178,
   "id": "392c079b",
   "metadata": {},
   "outputs": [],
   "source": [
    "def list_hashtags(tweet):\n",
    "    hashtags = []\n",
    "    for tag in tweet[\"entities\"][\"hashtags\"]: #we loop the hashtags of the tweet that we can find in tweet[\"entities\"][\"hashtags\"]\n",
    "        hashtags.append(\"#\"+tag[\"text\"])\n",
    "    return ' '.join(hashtags).strip()"
   ]
  },
  {
   "cell_type": "markdown",
   "id": "0df8f633",
   "metadata": {},
   "source": [
    "We create a function to display the relevant information of the tweet ( we also added the document to see it works properly):"
   ]
  },
  {
   "cell_type": "code",
   "execution_count": 179,
   "id": "2088a886",
   "metadata": {},
   "outputs": [],
   "source": [
    "def tweet_display(tweets, idd,data):\n",
    "    for i in range(len(data)):\n",
    "        if data['doc'][i] == idd: #we map the doc_id to the tweet_id\n",
    "            doc = data['doc'][i]\n",
    "            tw_id = data['id'][i]\n",
    "            for tweet in tweets: #we loop all tweets until we find the one with the corresponding tweet_id, then we display\n",
    "                if (tweet['id']) == tw_id:\n",
    "                    return\"Document : \"+ str(doc)+  \"|\" +\" Tweet: \" + str(tweet['full_text']) + \"|\" + \"Username: \" + str(tweet[\"user\"][\"name\"]) + \"|\" + \"Date: \"+ str(tweet[\"created_at\"]) + \"|\" + \"Hashtags: \" + list_hashtags(tweet) + \"|\" + \"Likes: \" +  str(tweet[\"favorite_count\"]) + \"|\" + \"Retweets: \"+ str(tweet[\"retweet_count\"]) + \"|\" + \"Url: \" + \"twitter.com/\"+str(tweet[\"user\"][\"id\"])+\"/status/\"+tweet['id_str']+\"\\n\"\n"
   ]
  },
  {
   "cell_type": "code",
   "execution_count": 182,
   "id": "0182426a",
   "metadata": {},
   "outputs": [
    {
     "name": "stdout",
     "output_type": "stream",
     "text": [
      "Insert your query (i.e.: Computer Science):\n",
      "\n",
      "hurricane\n",
      "\n",
      "======================\n",
      "Top 10 results out of 631 for the searched query:\n",
      "\n",
      "Document : doc_3218| Tweet: If the death doll isn't more than hurricane katrina, its pretty damn close. #HurricaneIan was absolutely worse than hurricane charley for Florida..and was THE STRONGEST hurricane in recorded history for our florida peninsula.|Username: Emily Bailee|Date: Fri Sep 30 15:14:25 +0000 2022|Hashtags: #HurricaneIan|Likes: 0|Retweets: 0|Url: twitter.com/45058299/status/1575866662070484994\n",
      "\n",
      "Document : doc_640| Tweet: Hurricane Ian before and after #HurricaneIan https://t.co/XZstkI2pN2|Username: kaden fields ✪|Date: Fri Sep 30 18:07:50 +0000 2022|Hashtags: #HurricaneIan|Likes: 2|Retweets: 0|Url: twitter.com/1329640781649416197/status/1575910304159977472\n",
      "\n",
      "Document : doc_3845| Tweet: So please y'all, hold off on the severe hurricane jokes because this hurricane isn't a joke right now. And it never will be. #hurricaneian|Username: UNDERCUT SEONGHWA ENTHUSIAST ‼️🤩|Date: Fri Sep 30 14:41:02 +0000 2022|Hashtags: #hurricaneian|Likes: 0|Retweets: 0|Url: twitter.com/1371237552737419265/status/1575858260837797888\n",
      "\n",
      "Document : doc_3336| Tweet: Although the Hurricane has finally passed, my thoughts and prayers go out to everyone trying to rebuild and recover from Hurricane Ian. \n",
      "\n",
      "#HurricaneIan 🌪|Username: Tuck Beck|Date: Fri Sep 30 15:07:56 +0000 2022|Hashtags: #HurricaneIan|Likes: 0|Retweets: 1|Url: twitter.com/278727661/status/1575865031207825408\n",
      "\n",
      "Document : doc_2537| Tweet: PRAY 🙏 FOR ALL WHO SUFFERED FROM THE HURRICANE #HurricaneIan|Username: Gamingforlife|Date: Fri Sep 30 15:48:48 +0000 2022|Hashtags: #HurricaneIan|Likes: 0|Retweets: 0|Url: twitter.com/1565775847960739841/status/1575875317918748679\n",
      "\n",
      "Document : doc_2140| Tweet: #hurricaneian\n",
      "The perpetual hurricane Ian|Username: 💥PermanentWave|Date: Fri Sep 30 16:14:34 +0000 2022|Hashtags: #hurricaneian|Likes: 0|Retweets: 0|Url: twitter.com/75442215/status/1575881799267295234\n",
      "\n",
      "Document : doc_1217| Tweet: Hurricane Ian on tour😭\n",
      "#HurricaneIan|Username: New York City|Date: Fri Sep 30 17:37:34 +0000 2022|Hashtags: #HurricaneIan|Likes: 0|Retweets: 0|Url: twitter.com/1068652828661559297/status/1575902689040666626\n",
      "\n",
      "Document : doc_495| Tweet: Hurricane Ian be like \n",
      "\n",
      "“You all haven’t had any hurricanes around here lately so I’m just gonna take my time on the East Coast.”\n",
      "\n",
      "#HurricaneIan #Ian #Hurricane|Username: Correcting your 💩|Date: Fri Sep 30 18:14:39 +0000 2022|Hashtags: #HurricaneIan #Ian #Hurricane|Likes: 0|Retweets: 0|Url: twitter.com/1565783598543806472/status/1575912020368449536\n",
      "\n",
      "Document : doc_1428| Tweet: BTW Florida's combative, anti-education/women/liberty gov DiSantis voted against hurricane relief money after Hurricane Sandy. think on that a moment. \n",
      "#HurricaneIan #Fla|Username: Butter Emails🌻🌻|Date: Fri Sep 30 17:21:56 +0000 2022|Hashtags: #HurricaneIan #Fla|Likes: 0|Retweets: 0|Url: twitter.com/17578329/status/1575898753826856960\n",
      "\n",
      "Document : doc_746| Tweet: Yesterday, Hurricane Ian made landfall near Cayo Costa, Fla., as a Category 4 hurricane, bringing record wind and storm surge to a four-county area in Southwest Florida. Read the full update on Hurricane Ian from our MWC Florida team here:\n",
      "\n",
      "#hurricaneian #florida|Username: McGuireWoods Consulting|Date: Fri Sep 30 18:03:17 +0000 2022|Hashtags: #hurricaneian #florida|Likes: 0|Retweets: 0|Url: twitter.com/488644188/status/1575909158746038277\n",
      "\n"
     ]
    }
   ],
   "source": [
    "print(\"Insert your query (i.e.: Computer Science):\\n\")\n",
    "query = input()\n",
    "ranked_docs,doc_scores = search_tf_idf(query, index)\n",
    "top = 10\n",
    "\n",
    "print(\"\\n======================\\nTop {} results out of {} for the searched query:\\n\".format(top, len(ranked_docs)))\n",
    "for d_id in ranked_docs[:top]:\n",
    "    print(tweet_display(lines, d_id,data))"
   ]
  },
  {
   "cell_type": "markdown",
   "id": "95125540",
   "metadata": {},
   "source": [
    "# 5 queries"
   ]
  },
  {
   "cell_type": "code",
   "execution_count": 184,
   "id": "39cf2b10",
   "metadata": {},
   "outputs": [
    {
     "name": "stdout",
     "output_type": "stream",
     "text": [
      "\n",
      "======================\n",
      "Top 10 results out of 261 for the searched query:\n",
      "\n",
      "Document : doc_1493| Tweet: It’s not the wind that’s so bad for us in the lowcountry ; like in Florida it’s the wind I worry about. Here it’s the FLOODING. The lowcountry floods during regular rain storms; hurricanes can flood out so many homes so fast here. #HurricaneIan|Username: qaatil🐺 | #BlackRiddler 🎲|Date: Fri Sep 30 17:14:34 +0000 2022|Hashtags: #HurricaneIan|Likes: 0|Retweets: 0|Url: twitter.com/958535964/status/1575896898481053697\n",
      "\n",
      "Document : doc_2488| Tweet: If you are in a flood zone, you will be required by your mortgage company to carry a flood policy.  Here is what it covers. \n",
      "#HurricaneIan #floodinsurance https://t.co/FEiq7SI4cq|Username: Tony Tyan|Date: Fri Sep 30 15:51:01 +0000 2022|Hashtags: #HurricaneIan #floodinsurance|Likes: 0|Retweets: 0|Url: twitter.com/1551356616/status/1575875872934232064\n",
      "\n",
      "Document : doc_1862| Tweet: This is near where I live. Flood didn't affect me. Caused by flooding of #EconRiver #EconTrail #HurricaneIan #FloridaLife https://t.co/G1r0teVGAj|Username: Nydia needs coffee #FullofCoffee ☕🇵🇷|Date: Fri Sep 30 16:38:49 +0000 2022|Hashtags: #EconRiver #EconTrail #HurricaneIan #FloridaLife|Likes: 7|Retweets: 2|Url: twitter.com/935229740851646464/status/1575887905234776064\n",
      "\n",
      "Document : doc_1691| Tweet: Flood Safety: If you’ve been affected by flooding, please be aware of floodwater contaminants!\n",
      "\n",
      "❌Do not drink floodwater \n",
      "❌Do not cook, clean, or brush teeth with flood water \n",
      "✔️Cover open wounds \n",
      "✔️Limit exposure to floodwater\n",
      "\n",
      "#HurricaneIan https://t.co/GPIF3Oj7mP|Username: Healthcare Ready|Date: Fri Sep 30 16:56:05 +0000 2022|Hashtags: #HurricaneIan|Likes: 1|Retweets: 2|Url: twitter.com/83664766/status/1575892248319119360\n",
      "\n",
      "Document : doc_3960| Tweet: Flash Flood warning for coastal Georgetown county until 1:30 pm. 2\"-4\" of rain has already fallen with an additional 2\" to 3\" possible. Flash flooding is ongoing or expected to begin shortly. Be safe and NEVER travel/drive through flooded streets. #SCwx .@WBTWNews13 #HurricaneIan https://t.co/A5CmYPg3tc|Username: James Hopkins|Date: Fri Sep 30 14:34:58 +0000 2022|Hashtags: #SCwx #HurricaneIan|Likes: 5|Retweets: 3|Url: twitter.com/19933511/status/1575856735734190081\n",
      "\n",
      "Document : doc_857| Tweet: Flooding outside Iona. #HurricaneIan https://t.co/ZIMzpJE2ge|Username: Kimberly Leonard|Date: Fri Sep 30 17:59:56 +0000 2022|Hashtags: #HurricaneIan|Likes: 0|Retweets: 0|Url: twitter.com/52282776/status/1575908317553213442\n",
      "\n",
      "Document : doc_1672| Tweet: Edgewater Florida Flooding. #HurricaneIan https://t.co/eK3lFQ0yLq|Username: tuddle|Date: Fri Sep 30 16:58:21 +0000 2022|Hashtags: #HurricaneIan|Likes: 4|Retweets: 0|Url: twitter.com/15170752/status/1575892817770999808\n",
      "\n",
      "Document : doc_3488| Tweet: Power is staring to flicker on and off and the pool is about to flood over #HurricaneIan|Username: Eva|Date: Fri Sep 30 15:01:13 +0000 2022|Hashtags: #HurricaneIan|Likes: 0|Retweets: 0|Url: twitter.com/394258538/status/1575863343080157185\n",
      "\n",
      "Document : doc_3471| Tweet: #HurricaneIan Flooded Angelo Dawkins' Home \n",
      "\n",
      "https://t.co/DFqk1X1dgZ|Username: Ringside News|Date: Fri Sep 30 15:02:11 +0000 2022|Hashtags: #HurricaneIan|Likes: 73|Retweets: 8|Url: twitter.com/1163427092/status/1575863585452048384\n",
      "\n",
      "Document : doc_3470| Tweet: #HurricaneIan Flooded Angelo Dawkins' Home \n",
      "\n",
      "https://t.co/XKve9Y21oo|Username: ⭐️PWM - WWE & AEW News & Rumors⭐️|Date: Fri Sep 30 15:02:11 +0000 2022|Hashtags: #HurricaneIan|Likes: 3|Retweets: 0|Url: twitter.com/200978998/status/1575863585460420608\n",
      "\n"
     ]
    }
   ],
   "source": [
    "#1\n",
    "query = 'flood'\n",
    "ranked_docs, doc_scores = search_tf_idf(query, index)\n",
    "top = 10\n",
    "\n",
    "print(\"\\n======================\\nTop {} results out of {} for the searched query:\\n\".format(top, len(ranked_docs)))\n",
    "for d_id in ranked_docs[:top]:\n",
    "    print(tweet_display(lines, d_id,data))"
   ]
  },
  {
   "cell_type": "code",
   "execution_count": 185,
   "id": "c7b8e2bf",
   "metadata": {},
   "outputs": [
    {
     "name": "stdout",
     "output_type": "stream",
     "text": [
      "\n",
      "======================\n",
      "Top 10 results out of 95 for the searched query:\n",
      "\n",
      "Document : doc_2682| Tweet: Our thoughts and prayers are with the people of Florida. Members, please continue to check your email for important updates from the VTA about emergency waivers and @GovernorVA 's state of emergency declaration as we prepare for #HurricaneIan.\n",
      "https://t.co/BXXJMxed3J|Username: Va Trucking Assn.|Date: Fri Sep 30 15:40:56 +0000 2022|Hashtags: #HurricaneIan|Likes: 1|Retweets: 1|Url: twitter.com/80934149/status/1575873336596647937\n",
      "\n",
      "Document : doc_588| Tweet: Disaster-Preparedness Training Expert and author, Haskell Moore, says, “save your phone for emergency communications and have two trusty flashlights minimum is my advice in any emergency,” Read more on the blog. https://t.co/Ajy4q4KZ5O\n",
      "#maglite\n",
      "#flashlite\n",
      "#hurricaneian|Username: MAGLITE|Date: Fri Sep 30 18:10:01 +0000 2022|Hashtags: #maglite #flashlite #hurricaneian|Likes: 2|Retweets: 1|Url: twitter.com/2774222486/status/1575910855274905614\n",
      "\n",
      "Document : doc_1911| Tweet: Ilham Thurston of LSC’s Disaster Team is in Raleigh responding to Hurricane Ian. The Emergency Operations Center has been activated, and Ilham will be on call to respond alongside North Carolina Emergency Management. #LSC #hurricaneian https://t.co/ps50f4y6HC|Username: Lutheran Services Carolinas|Date: Fri Sep 30 16:34:56 +0000 2022|Hashtags: #LSC #hurricaneian|Likes: 0|Retweets: 1|Url: twitter.com/1192108853632098304/status/1575886925600169984\n",
      "\n",
      "Document : doc_582| Tweet: @NWS South Carolinian's\n",
      "Follow your states Emergency Advisories\n",
      "&amp; Remember \"Turn Around Don't Drown\"\n",
      "\n",
      "State of Emergency for\n",
      "S Carolina @SCEMD\n",
      "SC Dept of Trans @SCDOTPress\n",
      "\n",
      "@NHC_Atlantic\n",
      "@fema\n",
      "@RedCross\n",
      "\n",
      "#HurricaneIan \n",
      "#hurricanequestions \n",
      "#Ian\n",
      "https://t.co/VronBdajgh|Username: JCTrevino|Date: Fri Sep 30 18:10:12 +0000 2022|Hashtags: #HurricaneIan #hurricanequestions #Ian|Likes: 1|Retweets: 0|Url: twitter.com/1288241341986754561/status/1575910899634032640\n",
      "\n",
      "Document : doc_1674| Tweet: @NWSCharlestonSC @SCEMD South Carolinian's\n",
      "Follow your states Emergency Advisories\n",
      "&amp; Remember \"Turn Around Don't Drown\"\n",
      "\n",
      "State of Emergency for\n",
      "S Carolina @SCEMD\n",
      "@NHC_Atlantic\n",
      "@fema\n",
      "@RedCross\n",
      " @horrycountypd\n",
      "\n",
      "#HurricaneIan \n",
      "#hurricanequestions \n",
      "#Ian\n",
      "https://t.co/djw9wX8chL|Username: JCTrevino|Date: Fri Sep 30 16:58:11 +0000 2022|Hashtags: #HurricaneIan #hurricanequestions #Ian|Likes: 0|Retweets: 0|Url: twitter.com/1288241341986754561/status/1575892777048494080\n",
      "\n",
      "Document : doc_143| Tweet: @EdPiotrowski South Carolinian's\n",
      "Follow your states Emergency Advisories\n",
      "&amp; Remember \"Turn Around Don't Drown\"\n",
      "\n",
      "State of Emergency for\n",
      "S Carolina @SCEMD\n",
      "SC Dept of Trans @SCDOTPress\n",
      "\n",
      "@NHC_Atlantic\n",
      "@fema\n",
      "@RedCross\n",
      "\n",
      "#HurricaneIan \n",
      "#hurricanequestions \n",
      "#Ian\n",
      "https://t.co/y3cxdlWiJp|Username: JCTrevino|Date: Fri Sep 30 18:31:31 +0000 2022|Hashtags: #HurricaneIan #hurricanequestions #Ian|Likes: 0|Retweets: 0|Url: twitter.com/1288241341986754561/status/1575916265285513216\n",
      "\n",
      "Document : doc_1882| Tweet: @NWSSPC Please tune into your local weather \n",
      "Follow your states Emergency Advisories\n",
      "\n",
      "States of Emergency for\n",
      "Georgia @GeorgiaEMAHS\n",
      "S Carolina @SCEMD\n",
      "N Carolina @NCPublicSafety\n",
      "Virginia @VDEM\n",
      "#HurricaneIan \n",
      "#hurricanequestions \n",
      "#Ian\n",
      "@NHC_Atlantic\n",
      "@fema\n",
      "@RedCross\n",
      "https://t.co/7GoiLh6BVe|Username: JCTrevino|Date: Fri Sep 30 16:37:18 +0000 2022|Hashtags: #HurricaneIan #hurricanequestions #Ian|Likes: 0|Retweets: 0|Url: twitter.com/1288241341986754561/status/1575887523074768896\n",
      "\n",
      "Document : doc_1685| Tweet: @horrycountypd @SCEMD South Carolinian's\n",
      "Follow your states Emergency Advisories\n",
      "&amp; Remember \"Turn Around Don't Drown\"\n",
      "\n",
      "State of Emergency for\n",
      "S Carolina @SCEMD\n",
      "\n",
      "@NHC_Atlantic\n",
      "@fema\n",
      "@RedCross \n",
      "@horrycountypd\n",
      "\n",
      "#HurricaneIan \n",
      "#hurricanequestions \n",
      "#Ian\n",
      "\n",
      "https://t.co/eIFnnCkkmy|Username: JCTrevino|Date: Fri Sep 30 16:56:35 +0000 2022|Hashtags: #HurricaneIan #hurricanequestions #Ian|Likes: 0|Retweets: 0|Url: twitter.com/1288241341986754561/status/1575892373321572373\n",
      "\n",
      "Document : doc_2319| Tweet: FL - REGULATORY BULLETIN - Emergency Order: #HurricaneIan #PropertyLegalNews \n",
      "https://t.co/FdymEyXkhK https://t.co/7IUu3E3nj8|Username: PLRB|Date: Fri Sep 30 16:00:43 +0000 2022|Hashtags: #HurricaneIan #PropertyLegalNews|Likes: 0|Retweets: 0|Url: twitter.com/240695548/status/1575878315675717632\n",
      "\n",
      "Document : doc_375| Tweet: @horrycountypd @SCEMD South Carolinian's\n",
      "Follow your states Emergency Advisories\n",
      "Remember \"Turn Around Don't Drown\"\n",
      "\n",
      "State of Emergency for\n",
      "S Carolina @SCEMD\n",
      "SC Dept of Trans @SCDOTPress\n",
      "\n",
      "@horrycountypd\n",
      "@NHC_Atlantic \n",
      "@fema \n",
      "@RedCross\n",
      "\n",
      "#HurricaneIan \n",
      "#hurricanequestions \n",
      "#Ian\n",
      "https://t.co/pQgfQJYgh4|Username: JCTrevino|Date: Fri Sep 30 18:20:58 +0000 2022|Hashtags: #HurricaneIan #hurricanequestions #Ian|Likes: 1|Retweets: 0|Url: twitter.com/1288241341986754561/status/1575913610983133184\n",
      "\n"
     ]
    }
   ],
   "source": [
    "#2\n",
    "query = 'emergency'\n",
    "ranked_docs, doc_scores = search_tf_idf(query, index)\n",
    "top = 10\n",
    "\n",
    "print(\"\\n======================\\nTop {} results out of {} for the searched query:\\n\".format(top, len(ranked_docs)))\n",
    "for d_id in ranked_docs[:top]:\n",
    "    print(tweet_display(lines, d_id,data))"
   ]
  },
  {
   "cell_type": "code",
   "execution_count": 186,
   "id": "b2649fcb",
   "metadata": {},
   "outputs": [
    {
     "name": "stdout",
     "output_type": "stream",
     "text": [
      "\n",
      "======================\n",
      "Top 10 results out of 631 for the searched query:\n",
      "\n",
      "Document : doc_3218| Tweet: If the death doll isn't more than hurricane katrina, its pretty damn close. #HurricaneIan was absolutely worse than hurricane charley for Florida..and was THE STRONGEST hurricane in recorded history for our florida peninsula.|Username: Emily Bailee|Date: Fri Sep 30 15:14:25 +0000 2022|Hashtags: #HurricaneIan|Likes: 0|Retweets: 0|Url: twitter.com/45058299/status/1575866662070484994\n",
      "\n",
      "Document : doc_640| Tweet: Hurricane Ian before and after #HurricaneIan https://t.co/XZstkI2pN2|Username: kaden fields ✪|Date: Fri Sep 30 18:07:50 +0000 2022|Hashtags: #HurricaneIan|Likes: 2|Retweets: 0|Url: twitter.com/1329640781649416197/status/1575910304159977472\n",
      "\n",
      "Document : doc_3845| Tweet: So please y'all, hold off on the severe hurricane jokes because this hurricane isn't a joke right now. And it never will be. #hurricaneian|Username: UNDERCUT SEONGHWA ENTHUSIAST ‼️🤩|Date: Fri Sep 30 14:41:02 +0000 2022|Hashtags: #hurricaneian|Likes: 0|Retweets: 0|Url: twitter.com/1371237552737419265/status/1575858260837797888\n",
      "\n",
      "Document : doc_3336| Tweet: Although the Hurricane has finally passed, my thoughts and prayers go out to everyone trying to rebuild and recover from Hurricane Ian. \n",
      "\n",
      "#HurricaneIan 🌪|Username: Tuck Beck|Date: Fri Sep 30 15:07:56 +0000 2022|Hashtags: #HurricaneIan|Likes: 0|Retweets: 1|Url: twitter.com/278727661/status/1575865031207825408\n",
      "\n",
      "Document : doc_2537| Tweet: PRAY 🙏 FOR ALL WHO SUFFERED FROM THE HURRICANE #HurricaneIan|Username: Gamingforlife|Date: Fri Sep 30 15:48:48 +0000 2022|Hashtags: #HurricaneIan|Likes: 0|Retweets: 0|Url: twitter.com/1565775847960739841/status/1575875317918748679\n",
      "\n",
      "Document : doc_2140| Tweet: #hurricaneian\n",
      "The perpetual hurricane Ian|Username: 💥PermanentWave|Date: Fri Sep 30 16:14:34 +0000 2022|Hashtags: #hurricaneian|Likes: 0|Retweets: 0|Url: twitter.com/75442215/status/1575881799267295234\n",
      "\n",
      "Document : doc_1217| Tweet: Hurricane Ian on tour😭\n",
      "#HurricaneIan|Username: New York City|Date: Fri Sep 30 17:37:34 +0000 2022|Hashtags: #HurricaneIan|Likes: 0|Retweets: 0|Url: twitter.com/1068652828661559297/status/1575902689040666626\n",
      "\n",
      "Document : doc_495| Tweet: Hurricane Ian be like \n",
      "\n",
      "“You all haven’t had any hurricanes around here lately so I’m just gonna take my time on the East Coast.”\n",
      "\n",
      "#HurricaneIan #Ian #Hurricane|Username: Correcting your 💩|Date: Fri Sep 30 18:14:39 +0000 2022|Hashtags: #HurricaneIan #Ian #Hurricane|Likes: 0|Retweets: 0|Url: twitter.com/1565783598543806472/status/1575912020368449536\n",
      "\n",
      "Document : doc_1428| Tweet: BTW Florida's combative, anti-education/women/liberty gov DiSantis voted against hurricane relief money after Hurricane Sandy. think on that a moment. \n",
      "#HurricaneIan #Fla|Username: Butter Emails🌻🌻|Date: Fri Sep 30 17:21:56 +0000 2022|Hashtags: #HurricaneIan #Fla|Likes: 0|Retweets: 0|Url: twitter.com/17578329/status/1575898753826856960\n",
      "\n",
      "Document : doc_746| Tweet: Yesterday, Hurricane Ian made landfall near Cayo Costa, Fla., as a Category 4 hurricane, bringing record wind and storm surge to a four-county area in Southwest Florida. Read the full update on Hurricane Ian from our MWC Florida team here:\n",
      "\n",
      "#hurricaneian #florida|Username: McGuireWoods Consulting|Date: Fri Sep 30 18:03:17 +0000 2022|Hashtags: #hurricaneian #florida|Likes: 0|Retweets: 0|Url: twitter.com/488644188/status/1575909158746038277\n",
      "\n"
     ]
    }
   ],
   "source": [
    "#3\n",
    "query = 'hurricane'\n",
    "ranked_docs, doc_scores = search_tf_idf(query, index)\n",
    "top = 10\n",
    "\n",
    "print(\"\\n======================\\nTop {} results out of {} for the searched query:\\n\".format(top, len(ranked_docs)))\n",
    "for d_id in ranked_docs[:top]:\n",
    "    print(tweet_display(lines, d_id,data))"
   ]
  },
  {
   "cell_type": "code",
   "execution_count": 187,
   "id": "2d111111",
   "metadata": {},
   "outputs": [
    {
     "name": "stdout",
     "output_type": "stream",
     "text": [
      "\n",
      "======================\n",
      "Top 10 results out of 547 for the searched query:\n",
      "\n",
      "Document : doc_2072| Tweet: Donate to the Florida Disaster Fund - Volunteer Florida to help Floridians recover from #hurricaneian  https://t.co/Ud4BNM81EJ|Username: 🇺🇸 Amy☢️REDACTED☢️ MAGArino 🤌🏻🇺🇸|Date: Fri Sep 30 16:19:57 +0000 2022|Hashtags: #hurricaneian|Likes: 1|Retweets: 0|Url: twitter.com/2398138445/status/1575883154153414656\n",
      "\n",
      "Document : doc_1700| Tweet: The current death toll in Florida sits at 21. About 10,000 people in southwest Florida are unaccounted for. 💔 #hurricaneian|Username: School’s Out|Date: Fri Sep 30 16:55:15 +0000 2022|Hashtags: #hurricaneian|Likes: 0|Retweets: 0|Url: twitter.com/1420132505546465280/status/1575892040541298690\n",
      "\n",
      "Document : doc_1701| Tweet: Update: #hurricaneian has passed Florida and is now headed to South Carolina.\n",
      "\n",
      "1.8 million remain without power in Florida.|Username: TheLatestBlock.com|Date: Fri Sep 30 16:55:12 +0000 2022|Hashtags: #hurricaneian|Likes: 0|Retweets: 0|Url: twitter.com/1375638432341446656/status/1575892025312002048\n",
      "\n",
      "Document : doc_3964| Tweet: Duke Energy donates $100,000 to the Florida Disaster Fund, managed by Volunteer Florida Foundation, to assist communities affected by #HurricaneIan. To contribute to the Florida Disaster Fund, visit https://t.co/zx6l40CRQv or text DISASTER to 20222. Info: https://t.co/oAmCDqYkVQ https://t.co/UVsnxWHWGu|Username: Duke Energy|Date: Fri Sep 30 14:34:42 +0000 2022|Hashtags: #HurricaneIan|Likes: 13|Retweets: 11|Url: twitter.com/81192849/status/1575856667304071170\n",
      "\n",
      "Document : doc_563| Tweet: Florida boss called Hurricane Ian a \"nothing burger\" — urged staff to keep working: reports .. https://t.co/FOw04OW275::: Clearwater Florida #HurricaneIan https://t.co/zDbw2By1fk|Username: WTB Research|Date: Fri Sep 30 18:11:08 +0000 2022|Hashtags: #HurricaneIan|Likes: 0|Retweets: 1|Url: twitter.com/991187411630780416/status/1575911137937326081\n",
      "\n",
      "Document : doc_2506| Tweet: @MrMatthewTodd After, Florida is totally under water.\n",
      "Then, it will hit them. 🤔\n",
      "Climate change will take more and more costal lands.\n",
      "Florida is on it's way OUT. 🌧🌀\n",
      "#HurricaneIan \n",
      "#GlobalWarming \n",
      "#ClimateChange \n",
      "#Florida \n",
      "#SouthCarolina|Username: Jennifer Coleman|Date: Fri Sep 30 15:50:08 +0000 2022|Hashtags: #HurricaneIan #GlobalWarming #ClimateChange #Florida #SouthCarolina|Likes: 0|Retweets: 0|Url: twitter.com/2218000892/status/1575875654108811267\n",
      "\n",
      "Document : doc_2261| Tweet: @GovRonDeSantis said thousands of Florida residents will need help rebuilding after #hurricaneian and urged those that could to contribute to the Florida Disaster Fund ( https://t.co/th8d863roq ) https://t.co/yWKGgJ7hMm|Username: Chip Barnett|Date: Fri Sep 30 16:04:32 +0000 2022|Hashtags: #hurricaneian|Likes: 0|Retweets: 0|Url: twitter.com/159096380/status/1575879277262032896\n",
      "\n",
      "Document : doc_3114| Tweet: Hey Florida..  lookie here..  #HurricaneIan https://t.co/JHJoHz5pd0|Username: free2bhuman|Date: Fri Sep 30 15:19:53 +0000 2022|Hashtags: #HurricaneIan|Likes: 1|Retweets: 0|Url: twitter.com/384077570/status/1575868040931323904\n",
      "\n",
      "Document : doc_2905| Tweet: Hurricane Ian heads towards South Carolina after striking Florida.\n",
      "The death toll in Florida has risen to 21. We are praying for all those affected. Our hearts are with you. #HurricaneIan https://t.co/RqvvtW7Mt5|Username: lyfmail.com|Date: Fri Sep 30 15:29:30 +0000 2022|Hashtags: #HurricaneIan|Likes: 0|Retweets: 0|Url: twitter.com/1543603637817331713/status/1575870458964344833\n",
      "\n",
      "Document : doc_2899| Tweet: They are rebuilding Florida. \n",
      "Why? \n",
      "#ClimateEmergency #HurricaneIan https://t.co/XNaKn7m7lg|Username: 😷Miriam O'Callaghan Has a Deadline|Date: Fri Sep 30 15:29:48 +0000 2022|Hashtags: #ClimateEmergency #HurricaneIan|Likes: 4|Retweets: 3|Url: twitter.com/1031872658575642624/status/1575870535653011456\n",
      "\n"
     ]
    }
   ],
   "source": [
    "#4\n",
    "query = 'florida'\n",
    "ranked_docs, doc_scores = search_tf_idf(query, index)\n",
    "top = 10\n",
    "\n",
    "print(\"\\n======================\\nTop {} results out of {} for the searched query:\\n\".format(top, len(ranked_docs)))\n",
    "for d_id in ranked_docs[:top]:\n",
    "    print(tweet_display(lines, d_id,data))"
   ]
  },
  {
   "cell_type": "code",
   "execution_count": 188,
   "id": "2e9747e3",
   "metadata": {},
   "outputs": [
    {
     "name": "stdout",
     "output_type": "stream",
     "text": [
      "\n",
      "======================\n",
      "Top 10 results out of 238 for the searched query:\n",
      "\n",
      "Document : doc_399| Tweet: #HurricaneIan has made landfall!|Username: WeatherMAX National|Date: Fri Sep 30 18:19:30 +0000 2022|Hashtags: #HurricaneIan|Likes: 0|Retweets: 0|Url: twitter.com/1425534305619546118/status/1575913241116803072\n",
      "\n",
      "Document : doc_100| Tweet: Final #Ian and Charley comparison @HeatherZWeather, I promise! 😂\n",
      "\n",
      "After nearly identical landfall points in FL, #HurricaneIan's second landfall 🌀 in Georgetown, SC is only 24 miles from Charley's landfall in SC.\n",
      "\n",
      "@weatherchannel https://t.co/PvVOmy5Xhu|Username: Jason Disharoon|Date: Fri Sep 30 18:33:40 +0000 2022|Hashtags: #Ian #HurricaneIan|Likes: 5|Retweets: 1|Url: twitter.com/37661008/status/1575916807927795712\n",
      "\n",
      "Document : doc_245| Tweet: 4th Landfall !!! #HurricaneIan https://t.co/RjDkz7HbEb|Username: Najam نجم|Date: Fri Sep 30 18:26:30 +0000 2022|Hashtags: #HurricaneIan|Likes: 0|Retweets: 0|Url: twitter.com/712763496/status/1575915004590977024\n",
      "\n",
      "Document : doc_12| Tweet: #HurricaneIan officially made landfall at 2:15 pm near Georgetown, SC.\n",
      "\n",
      "Ian made landfall as a CAT 1 with sustained winds of 85 mph.\n",
      "\n",
      "This is Ian's 3rd landfall.\n",
      "\n",
      "@SpecNews1RDU \n",
      "\n",
      "@SpecNews1ILM \n",
      "\n",
      "@SpecNews1Triad \n",
      "\n",
      "@SpecNews1CLT \n",
      "\n",
      "@SpecNews1MTN https://t.co/BvcQeOLkBG|Username: Meteorologist Vernon Turner|Date: Fri Sep 30 18:38:34 +0000 2022|Hashtags: #HurricaneIan|Likes: 0|Retweets: 0|Url: twitter.com/3232685437/status/1575918038196666392\n",
      "\n",
      "Document : doc_314| Tweet: THE 3rd and Final Landfall of #HurricaneIan just occurred S of Myrtle Beach. The storm actually intensified as pressure dropped before landfall at 977mb. #scwx https://t.co/As1LR1r2vq|Username: I65Wx (BWG/SoKy)|Date: Fri Sep 30 18:23:34 +0000 2022|Hashtags: #HurricaneIan #scwx|Likes: 2|Retweets: 0|Url: twitter.com/1371119451454763010/status/1575914266473140225\n",
      "\n",
      "Document : doc_386| Tweet: JUST IN: #HurricaneIan makes landfall near Georgetown.|Username: Kristina Lobo|Date: Fri Sep 30 18:20:07 +0000 2022|Hashtags: #HurricaneIan|Likes: 0|Retweets: 0|Url: twitter.com/1260754170/status/1575913396373012492\n",
      "\n",
      "Document : doc_3227| Tweet: #HurricaneIan is starting to make landfall here in #NC.|Username: OnTheMoon, AntiRugs.Eth | GetRichOrRuggedTryin.Eth|Date: Fri Sep 30 15:13:53 +0000 2022|Hashtags: #HurricaneIan #NC|Likes: 2|Retweets: 0|Url: twitter.com/1395187526537826310/status/1575866530335629312\n",
      "\n",
      "Document : doc_1163| Tweet: Ian is making landfall again. #HurricaneIan https://t.co/NCxy8gqWLD|Username: Twisted Skies|Date: Fri Sep 30 17:40:35 +0000 2022|Hashtags: #HurricaneIan|Likes: 2|Retweets: 1|Url: twitter.com/2856918817/status/1575903449405067264\n",
      "\n",
      "Document : doc_410| Tweet: #HurricaneIan just made landfall near Georgetown, SC|Username: Jennifer Van Laar|Date: Fri Sep 30 18:18:44 +0000 2022|Hashtags: #HurricaneIan|Likes: 3|Retweets: 0|Url: twitter.com/775137023979958272/status/1575913047171813376\n",
      "\n",
      "Document : doc_3971| Tweet: #HurricaneIan as seen by Sentinel 3 just before landfall. https://t.co/b52i3g5blu|Username: Remy Mermelstein | WeatherInTheHud|Date: Fri Sep 30 14:34:19 +0000 2022|Hashtags: #HurricaneIan|Likes: 0|Retweets: 1|Url: twitter.com/3438631077/status/1575856571783184385\n",
      "\n"
     ]
    }
   ],
   "source": [
    "#5\n",
    "query = 'landfall'\n",
    "ranked_docs, doc_scores = search_tf_idf(query, index)\n",
    "top = 10\n",
    "\n",
    "print(\"\\n======================\\nTop {} results out of {} for the searched query:\\n\".format(top, len(ranked_docs)))\n",
    "for d_id in ranked_docs[:top]:\n",
    "    print(tweet_display(lines, d_id,data))"
   ]
  },
  {
   "cell_type": "markdown",
   "id": "aa304c92",
   "metadata": {},
   "source": [
    "# Evaluation"
   ]
  },
  {
   "cell_type": "code",
   "execution_count": 202,
   "id": "03be4e69",
   "metadata": {},
   "outputs": [
    {
     "data": {
      "text/html": [
       "<div>\n",
       "<style scoped>\n",
       "    .dataframe tbody tr th:only-of-type {\n",
       "        vertical-align: middle;\n",
       "    }\n",
       "\n",
       "    .dataframe tbody tr th {\n",
       "        vertical-align: top;\n",
       "    }\n",
       "\n",
       "    .dataframe thead th {\n",
       "        text-align: right;\n",
       "    }\n",
       "</style>\n",
       "<table border=\"1\" class=\"dataframe\">\n",
       "  <thead>\n",
       "    <tr style=\"text-align: right;\">\n",
       "      <th></th>\n",
       "      <th>query_id</th>\n",
       "      <th>doc_id</th>\n",
       "      <th>predicted_relevance</th>\n",
       "    </tr>\n",
       "  </thead>\n",
       "  <tbody>\n",
       "    <tr>\n",
       "      <th>0</th>\n",
       "      <td>0</td>\n",
       "      <td>doc_399</td>\n",
       "      <td>4.597579</td>\n",
       "    </tr>\n",
       "    <tr>\n",
       "      <th>1</th>\n",
       "      <td>0</td>\n",
       "      <td>doc_100</td>\n",
       "      <td>4.158046</td>\n",
       "    </tr>\n",
       "    <tr>\n",
       "      <th>2</th>\n",
       "      <td>0</td>\n",
       "      <td>doc_245</td>\n",
       "      <td>3.981278</td>\n",
       "    </tr>\n",
       "    <tr>\n",
       "      <th>3</th>\n",
       "      <td>0</td>\n",
       "      <td>doc_12</td>\n",
       "      <td>3.927132</td>\n",
       "    </tr>\n",
       "    <tr>\n",
       "      <th>4</th>\n",
       "      <td>0</td>\n",
       "      <td>doc_314</td>\n",
       "      <td>3.753549</td>\n",
       "    </tr>\n",
       "  </tbody>\n",
       "</table>\n",
       "</div>"
      ],
      "text/plain": [
       "  query_id   doc_id  predicted_relevance\n",
       "0        0  doc_399             4.597579\n",
       "1        0  doc_100             4.158046\n",
       "2        0  doc_245             3.981278\n",
       "3        0   doc_12             3.927132\n",
       "4        0  doc_314             3.753549"
      ]
     },
     "execution_count": 202,
     "metadata": {},
     "output_type": "execute_result"
    }
   ],
   "source": [
    "#create the dataframe with our 5 queries to be evaluated\n",
    "queries = ['flood','emergency','hurricane','florida','landfall']\n",
    "\n",
    "search_results = pd.DataFrame(columns = [\"query_id\", \"doc_id\", \"predicted_relevance\"])\n",
    "\n",
    "for i in range(len(queries)):\n",
    "    ranked_docs, doc_scores = search_tf_idf(query, index)\n",
    "    for j in range(len(ranked_docs[:10])):\n",
    "        search_results = search_results.append({\"query_id\": i, \"doc_id\": str(ranked_docs[j]), \"predicted_relevance\": doc_scores[j][0]}, ignore_index=True)        \n",
    "search_results.head()"
   ]
  },
  {
   "cell_type": "code",
   "execution_count": 207,
   "id": "9dcf67cc",
   "metadata": {},
   "outputs": [],
   "source": [
    "# I have assigned each doc to one relevance\n",
    "is_relevant = [0, 1, 1, 1, 1, 1, 0, 1, 1, 1, 1, 0, 0, 1, 1, 0, 1, 1, 1, 1, 0, 0, 1, 1, 0, 0, 1, 0, 1, 1, 0, 0, 1, 1, 0, 1, 1, 1, 0, 0, 1, 1, 1, 1,0,1,1,0,0,1]"
   ]
  },
  {
   "cell_type": "code",
   "execution_count": 208,
   "id": "3afebccd",
   "metadata": {},
   "outputs": [
    {
     "data": {
      "text/plain": [
       "50"
      ]
     },
     "execution_count": 208,
     "metadata": {},
     "output_type": "execute_result"
    }
   ],
   "source": [
    "len(is_relevant)"
   ]
  },
  {
   "cell_type": "code",
   "execution_count": 209,
   "id": "1bf38ebb",
   "metadata": {},
   "outputs": [
    {
     "data": {
      "text/html": [
       "<div>\n",
       "<style scoped>\n",
       "    .dataframe tbody tr th:only-of-type {\n",
       "        vertical-align: middle;\n",
       "    }\n",
       "\n",
       "    .dataframe tbody tr th {\n",
       "        vertical-align: top;\n",
       "    }\n",
       "\n",
       "    .dataframe thead th {\n",
       "        text-align: right;\n",
       "    }\n",
       "</style>\n",
       "<table border=\"1\" class=\"dataframe\">\n",
       "  <thead>\n",
       "    <tr style=\"text-align: right;\">\n",
       "      <th></th>\n",
       "      <th>query_id</th>\n",
       "      <th>doc_id</th>\n",
       "      <th>predicted_relevance</th>\n",
       "      <th>is_relevant</th>\n",
       "    </tr>\n",
       "  </thead>\n",
       "  <tbody>\n",
       "    <tr>\n",
       "      <th>0</th>\n",
       "      <td>0</td>\n",
       "      <td>doc_399</td>\n",
       "      <td>4.597579</td>\n",
       "      <td>0</td>\n",
       "    </tr>\n",
       "    <tr>\n",
       "      <th>1</th>\n",
       "      <td>0</td>\n",
       "      <td>doc_100</td>\n",
       "      <td>4.158046</td>\n",
       "      <td>1</td>\n",
       "    </tr>\n",
       "    <tr>\n",
       "      <th>2</th>\n",
       "      <td>0</td>\n",
       "      <td>doc_245</td>\n",
       "      <td>3.981278</td>\n",
       "      <td>1</td>\n",
       "    </tr>\n",
       "    <tr>\n",
       "      <th>3</th>\n",
       "      <td>0</td>\n",
       "      <td>doc_12</td>\n",
       "      <td>3.927132</td>\n",
       "      <td>1</td>\n",
       "    </tr>\n",
       "    <tr>\n",
       "      <th>4</th>\n",
       "      <td>0</td>\n",
       "      <td>doc_314</td>\n",
       "      <td>3.753549</td>\n",
       "      <td>1</td>\n",
       "    </tr>\n",
       "  </tbody>\n",
       "</table>\n",
       "</div>"
      ],
      "text/plain": [
       "  query_id   doc_id  predicted_relevance  is_relevant\n",
       "0        0  doc_399             4.597579            0\n",
       "1        0  doc_100             4.158046            1\n",
       "2        0  doc_245             3.981278            1\n",
       "3        0   doc_12             3.927132            1\n",
       "4        0  doc_314             3.753549            1"
      ]
     },
     "execution_count": 209,
     "metadata": {},
     "output_type": "execute_result"
    }
   ],
   "source": [
    "search_results[\"is_relevant\"] = is_relevant\n",
    "search_results.head()"
   ]
  },
  {
   "cell_type": "code",
   "execution_count": 200,
   "id": "85837622",
   "metadata": {},
   "outputs": [
    {
     "data": {
      "text/html": [
       "<div>\n",
       "<style scoped>\n",
       "    .dataframe tbody tr th:only-of-type {\n",
       "        vertical-align: middle;\n",
       "    }\n",
       "\n",
       "    .dataframe tbody tr th {\n",
       "        vertical-align: top;\n",
       "    }\n",
       "\n",
       "    .dataframe thead th {\n",
       "        text-align: right;\n",
       "    }\n",
       "</style>\n",
       "<table border=\"1\" class=\"dataframe\">\n",
       "  <thead>\n",
       "    <tr style=\"text-align: right;\">\n",
       "      <th></th>\n",
       "      <th>doc</th>\n",
       "      <th>query_id</th>\n",
       "      <th>label</th>\n",
       "    </tr>\n",
       "  </thead>\n",
       "  <tbody>\n",
       "    <tr>\n",
       "      <th>0</th>\n",
       "      <td>doc_12</td>\n",
       "      <td>1</td>\n",
       "      <td>1</td>\n",
       "    </tr>\n",
       "    <tr>\n",
       "      <th>1</th>\n",
       "      <td>doc_9</td>\n",
       "      <td>1</td>\n",
       "      <td>1</td>\n",
       "    </tr>\n",
       "    <tr>\n",
       "      <th>2</th>\n",
       "      <td>doc_18</td>\n",
       "      <td>1</td>\n",
       "      <td>1</td>\n",
       "    </tr>\n",
       "    <tr>\n",
       "      <th>3</th>\n",
       "      <td>doc_45</td>\n",
       "      <td>1</td>\n",
       "      <td>1</td>\n",
       "    </tr>\n",
       "    <tr>\n",
       "      <th>4</th>\n",
       "      <td>doc_501</td>\n",
       "      <td>1</td>\n",
       "      <td>1</td>\n",
       "    </tr>\n",
       "  </tbody>\n",
       "</table>\n",
       "</div>"
      ],
      "text/plain": [
       "       doc  query_id  label\n",
       "0   doc_12         1      1\n",
       "1    doc_9         1      1\n",
       "2   doc_18         1      1\n",
       "3   doc_45         1      1\n",
       "4  doc_501         1      1"
      ]
     },
     "execution_count": 200,
     "metadata": {},
     "output_type": "execute_result"
    }
   ],
   "source": [
    "#Don't executeee!\n",
    "#search_results = pd.read_csv(\"evaluation_gt.csv\")\n",
    "#search_results.head()"
   ]
  },
  {
   "cell_type": "code",
   "execution_count": 82,
   "id": "dc3d3402",
   "metadata": {},
   "outputs": [
    {
     "data": {
      "text/html": [
       "<div>\n",
       "<style scoped>\n",
       "    .dataframe tbody tr th:only-of-type {\n",
       "        vertical-align: middle;\n",
       "    }\n",
       "\n",
       "    .dataframe tbody tr th {\n",
       "        vertical-align: top;\n",
       "    }\n",
       "\n",
       "    .dataframe thead th {\n",
       "        text-align: right;\n",
       "    }\n",
       "</style>\n",
       "<table border=\"1\" class=\"dataframe\">\n",
       "  <thead>\n",
       "    <tr style=\"text-align: right;\">\n",
       "      <th></th>\n",
       "      <th>query_id</th>\n",
       "      <th>doc_id</th>\n",
       "      <th>predicted_relevance</th>\n",
       "      <th>doc_score</th>\n",
       "    </tr>\n",
       "  </thead>\n",
       "  <tbody>\n",
       "    <tr>\n",
       "      <th>0</th>\n",
       "      <td>0</td>\n",
       "      <td>0</td>\n",
       "      <td>-0.637926</td>\n",
       "      <td>2.0</td>\n",
       "    </tr>\n",
       "    <tr>\n",
       "      <th>1</th>\n",
       "      <td>0</td>\n",
       "      <td>1</td>\n",
       "      <td>-0.824241</td>\n",
       "      <td>1.0</td>\n",
       "    </tr>\n",
       "    <tr>\n",
       "      <th>2</th>\n",
       "      <td>0</td>\n",
       "      <td>2</td>\n",
       "      <td>-1.358856</td>\n",
       "      <td>3.0</td>\n",
       "    </tr>\n",
       "    <tr>\n",
       "      <th>3</th>\n",
       "      <td>0</td>\n",
       "      <td>3</td>\n",
       "      <td>-0.096755</td>\n",
       "      <td>1.0</td>\n",
       "    </tr>\n",
       "    <tr>\n",
       "      <th>4</th>\n",
       "      <td>0</td>\n",
       "      <td>4</td>\n",
       "      <td>-1.268338</td>\n",
       "      <td>0.0</td>\n",
       "    </tr>\n",
       "    <tr>\n",
       "      <th>...</th>\n",
       "      <td>...</td>\n",
       "      <td>...</td>\n",
       "      <td>...</td>\n",
       "      <td>...</td>\n",
       "    </tr>\n",
       "    <tr>\n",
       "      <th>145</th>\n",
       "      <td>1</td>\n",
       "      <td>7</td>\n",
       "      <td>-1.091563</td>\n",
       "      <td>0.0</td>\n",
       "    </tr>\n",
       "    <tr>\n",
       "      <th>146</th>\n",
       "      <td>1</td>\n",
       "      <td>8</td>\n",
       "      <td>-1.206704</td>\n",
       "      <td>1.0</td>\n",
       "    </tr>\n",
       "    <tr>\n",
       "      <th>147</th>\n",
       "      <td>1</td>\n",
       "      <td>9</td>\n",
       "      <td>-0.278151</td>\n",
       "      <td>1.0</td>\n",
       "    </tr>\n",
       "    <tr>\n",
       "      <th>148</th>\n",
       "      <td>1</td>\n",
       "      <td>10</td>\n",
       "      <td>-2.144751</td>\n",
       "      <td>0.0</td>\n",
       "    </tr>\n",
       "    <tr>\n",
       "      <th>149</th>\n",
       "      <td>1</td>\n",
       "      <td>11</td>\n",
       "      <td>-1.671908</td>\n",
       "      <td>0.0</td>\n",
       "    </tr>\n",
       "  </tbody>\n",
       "</table>\n",
       "<p>150 rows × 4 columns</p>\n",
       "</div>"
      ],
      "text/plain": [
       "     query_id  doc_id  predicted_relevance  doc_score\n",
       "0           0       0            -0.637926        2.0\n",
       "1           0       1            -0.824241        1.0\n",
       "2           0       2            -1.358856        3.0\n",
       "3           0       3            -0.096755        1.0\n",
       "4           0       4            -1.268338        0.0\n",
       "..        ...     ...                  ...        ...\n",
       "145         1       7            -1.091563        0.0\n",
       "146         1       8            -1.206704        1.0\n",
       "147         1       9            -0.278151        1.0\n",
       "148         1      10            -2.144751        0.0\n",
       "149         1      11            -1.671908        0.0\n",
       "\n",
       "[150 rows x 4 columns]"
      ]
     },
     "execution_count": 82,
     "metadata": {},
     "output_type": "execute_result"
    }
   ],
   "source": [
    "#search_results = pd.read_csv(\"test_predictions.csv\")\n",
    "#search_results.head(150)"
   ]
  },
  {
   "cell_type": "code",
   "execution_count": 83,
   "id": "decb5906",
   "metadata": {
    "scrolled": true
   },
   "outputs": [
    {
     "data": {
      "text/html": [
       "<div>\n",
       "<style scoped>\n",
       "    .dataframe tbody tr th:only-of-type {\n",
       "        vertical-align: middle;\n",
       "    }\n",
       "\n",
       "    .dataframe tbody tr th {\n",
       "        vertical-align: top;\n",
       "    }\n",
       "\n",
       "    .dataframe thead th {\n",
       "        text-align: right;\n",
       "    }\n",
       "</style>\n",
       "<table border=\"1\" class=\"dataframe\">\n",
       "  <thead>\n",
       "    <tr style=\"text-align: right;\">\n",
       "      <th></th>\n",
       "      <th>query_id</th>\n",
       "      <th>doc_id</th>\n",
       "      <th>predicted_relevance</th>\n",
       "      <th>doc_score</th>\n",
       "      <th>is_relevant</th>\n",
       "    </tr>\n",
       "  </thead>\n",
       "  <tbody>\n",
       "    <tr>\n",
       "      <th>0</th>\n",
       "      <td>0</td>\n",
       "      <td>0</td>\n",
       "      <td>-0.637926</td>\n",
       "      <td>2.0</td>\n",
       "      <td>1</td>\n",
       "    </tr>\n",
       "    <tr>\n",
       "      <th>1</th>\n",
       "      <td>0</td>\n",
       "      <td>1</td>\n",
       "      <td>-0.824241</td>\n",
       "      <td>1.0</td>\n",
       "      <td>0</td>\n",
       "    </tr>\n",
       "    <tr>\n",
       "      <th>2</th>\n",
       "      <td>0</td>\n",
       "      <td>2</td>\n",
       "      <td>-1.358856</td>\n",
       "      <td>3.0</td>\n",
       "      <td>1</td>\n",
       "    </tr>\n",
       "    <tr>\n",
       "      <th>3</th>\n",
       "      <td>0</td>\n",
       "      <td>3</td>\n",
       "      <td>-0.096755</td>\n",
       "      <td>1.0</td>\n",
       "      <td>0</td>\n",
       "    </tr>\n",
       "    <tr>\n",
       "      <th>4</th>\n",
       "      <td>0</td>\n",
       "      <td>4</td>\n",
       "      <td>-1.268338</td>\n",
       "      <td>0.0</td>\n",
       "      <td>0</td>\n",
       "    </tr>\n",
       "  </tbody>\n",
       "</table>\n",
       "</div>"
      ],
      "text/plain": [
       "   query_id  doc_id  predicted_relevance  doc_score  is_relevant\n",
       "0         0       0            -0.637926        2.0            1\n",
       "1         0       1            -0.824241        1.0            0\n",
       "2         0       2            -1.358856        3.0            1\n",
       "3         0       3            -0.096755        1.0            0\n",
       "4         0       4            -1.268338        0.0            0"
      ]
     },
     "execution_count": 83,
     "metadata": {},
     "output_type": "execute_result"
    }
   ],
   "source": [
    "#search_results[\"is_relevant\"] = search_results[\"doc_score\"].apply(lambda y: 1 if y>=2 else 0)\n",
    "#search_results.head()"
   ]
  },
  {
   "cell_type": "markdown",
   "id": "9d4fa60a",
   "metadata": {},
   "source": [
    "Evaluamos mediante los algoritmos de evaluación:"
   ]
  },
  {
   "cell_type": "code",
   "execution_count": 228,
   "id": "b6c858de",
   "metadata": {},
   "outputs": [],
   "source": [
    "def precision_at_k(doc_score, y_score, k=10): #binary relevance, predicted relevance, k for a given query\n",
    "    \"\"\"\n",
    "    Parameters\n",
    "    ----------\n",
    "    doc_score: Ground truth (true relevance labels).\n",
    "    y_score: Predicted scores.\n",
    "    k : number of doc to consider.\n",
    "\n",
    "    Returns\n",
    "    -------\n",
    "    precision @k : float\n",
    "\n",
    "    \"\"\"\n",
    "    order = np.argsort(y_score)[::-1] #we get the ranking of the documents accoirding to the predicted score/ use np.argsort and [::1] to obtain the list of indexes of the predicted score sorted in descending order.\n",
    "    doc_score = np.take(doc_score, order[:k]) # align the binary relevance to the corresponding document / use the indexes of point 1 to sort the actual relevance label of the documents (hint: np.take).\n",
    "    relevant = sum(doc_score == 1) #get number of relevant documents\n",
    "    return float(relevant) / k #calculae precision at k, which is the number of relevant documents trieved at k"
   ]
  },
  {
   "cell_type": "code",
   "execution_count": 229,
   "id": "f02ef80a",
   "metadata": {},
   "outputs": [
    {
     "name": "stdout",
     "output_type": "stream",
     "text": [
      "==> Precision@5: 0.8\n",
      "\n",
      "\n",
      "Check on the dataset sorted by score:\n",
      "\n"
     ]
    },
    {
     "data": {
      "text/html": [
       "<div>\n",
       "<style scoped>\n",
       "    .dataframe tbody tr th:only-of-type {\n",
       "        vertical-align: middle;\n",
       "    }\n",
       "\n",
       "    .dataframe tbody tr th {\n",
       "        vertical-align: top;\n",
       "    }\n",
       "\n",
       "    .dataframe thead th {\n",
       "        text-align: right;\n",
       "    }\n",
       "</style>\n",
       "<table border=\"1\" class=\"dataframe\">\n",
       "  <thead>\n",
       "    <tr style=\"text-align: right;\">\n",
       "      <th></th>\n",
       "      <th>query_id</th>\n",
       "      <th>doc_id</th>\n",
       "      <th>predicted_relevance</th>\n",
       "      <th>is_relevant</th>\n",
       "    </tr>\n",
       "  </thead>\n",
       "  <tbody>\n",
       "    <tr>\n",
       "      <th>0</th>\n",
       "      <td>0</td>\n",
       "      <td>doc_399</td>\n",
       "      <td>4.597579</td>\n",
       "      <td>0</td>\n",
       "    </tr>\n",
       "    <tr>\n",
       "      <th>1</th>\n",
       "      <td>0</td>\n",
       "      <td>doc_100</td>\n",
       "      <td>4.158046</td>\n",
       "      <td>1</td>\n",
       "    </tr>\n",
       "    <tr>\n",
       "      <th>2</th>\n",
       "      <td>0</td>\n",
       "      <td>doc_245</td>\n",
       "      <td>3.981278</td>\n",
       "      <td>1</td>\n",
       "    </tr>\n",
       "    <tr>\n",
       "      <th>3</th>\n",
       "      <td>0</td>\n",
       "      <td>doc_12</td>\n",
       "      <td>3.927132</td>\n",
       "      <td>1</td>\n",
       "    </tr>\n",
       "    <tr>\n",
       "      <th>4</th>\n",
       "      <td>0</td>\n",
       "      <td>doc_314</td>\n",
       "      <td>3.753549</td>\n",
       "      <td>1</td>\n",
       "    </tr>\n",
       "  </tbody>\n",
       "</table>\n",
       "</div>"
      ],
      "text/plain": [
       "  query_id   doc_id  predicted_relevance  is_relevant\n",
       "0        0  doc_399             4.597579            0\n",
       "1        0  doc_100             4.158046            1\n",
       "2        0  doc_245             3.981278            1\n",
       "3        0   doc_12             3.927132            1\n",
       "4        0  doc_314             3.753549            1"
      ]
     },
     "execution_count": 229,
     "metadata": {},
     "output_type": "execute_result"
    }
   ],
   "source": [
    "# Check for query 0\n",
    "\n",
    "current_query = 0\n",
    "current_query_res = search_results[search_results[\"query_id\"] == current_query]\n",
    "\n",
    "k = 5\n",
    "print(\"==> Precision@{}: {}\\n\".format(k, precision_at_k(current_query_res[\"is_relevant\"], current_query_res[\"predicted_relevance\"], k)))\n",
    "print(\"\\nCheck on the dataset sorted by score:\\n\")\n",
    "\n",
    "current_query_res.sort_values(\"predicted_relevance\", ascending=False).head(k)"
   ]
  },
  {
   "cell_type": "code",
   "execution_count": 212,
   "id": "aaa8f90c",
   "metadata": {},
   "outputs": [],
   "source": [
    "#Not ready yet!!\n",
    "def recall_at_k(doc_score, y_score, k=10): #binary relevance, predicted relevance, k for a given query\n",
    "    \"\"\"\n",
    "    Parameters\n",
    "    ----------\n",
    "    doc_score: Ground truth (true relevance labels).\n",
    "    y_score: Predicted scores.\n",
    "    k : number of doc to consider.\n",
    "\n",
    "    Returns\n",
    "    -------\n",
    "    recall @k : float\n",
    "\n",
    "    \"\"\"\n",
    "    order = np.argsort(y_score)[::-1] \n",
    "    doc_score = np.take(doc_score, order[:k]) \n",
    "    all_relevants = sum(np.take(doc_score) == 1) \n",
    "    relevant = sum(doc_score == 1) \n",
    "    return float(relevant) / all_relevants #calculate recall at k, which is the number of relevant documents among all relevant docs"
   ]
  },
  {
   "cell_type": "code",
   "execution_count": 213,
   "id": "f1a3909c",
   "metadata": {},
   "outputs": [
    {
     "ename": "TypeError",
     "evalue": "_take_dispatcher() missing 1 required positional argument: 'indices'",
     "output_type": "error",
     "traceback": [
      "\u001b[1;31m---------------------------------------------------------------------------\u001b[0m",
      "\u001b[1;31mTypeError\u001b[0m                                 Traceback (most recent call last)",
      "\u001b[1;32m~\\AppData\\Local\\Temp/ipykernel_19460/1452185328.py\u001b[0m in \u001b[0;36m<module>\u001b[1;34m\u001b[0m\n\u001b[0;32m      5\u001b[0m \u001b[1;33m\u001b[0m\u001b[0m\n\u001b[0;32m      6\u001b[0m \u001b[0mk\u001b[0m \u001b[1;33m=\u001b[0m \u001b[1;36m5\u001b[0m\u001b[1;33m\u001b[0m\u001b[1;33m\u001b[0m\u001b[0m\n\u001b[1;32m----> 7\u001b[1;33m \u001b[0mprint\u001b[0m\u001b[1;33m(\u001b[0m\u001b[1;34m\"==> Precision@{}: {}\\n\"\u001b[0m\u001b[1;33m.\u001b[0m\u001b[0mformat\u001b[0m\u001b[1;33m(\u001b[0m\u001b[0mk\u001b[0m\u001b[1;33m,\u001b[0m \u001b[0mrecall_at_k\u001b[0m\u001b[1;33m(\u001b[0m\u001b[0mcurrent_query_res\u001b[0m\u001b[1;33m[\u001b[0m\u001b[1;34m\"is_relevant\"\u001b[0m\u001b[1;33m]\u001b[0m\u001b[1;33m,\u001b[0m \u001b[0mcurrent_query_res\u001b[0m\u001b[1;33m[\u001b[0m\u001b[1;34m\"predicted_relevance\"\u001b[0m\u001b[1;33m]\u001b[0m\u001b[1;33m,\u001b[0m \u001b[0mk\u001b[0m\u001b[1;33m)\u001b[0m\u001b[1;33m)\u001b[0m\u001b[1;33m)\u001b[0m\u001b[1;33m\u001b[0m\u001b[1;33m\u001b[0m\u001b[0m\n\u001b[0m\u001b[0;32m      8\u001b[0m \u001b[0mprint\u001b[0m\u001b[1;33m(\u001b[0m\u001b[1;34m\"\\nCheck on the dataset sorted by score:\\n\"\u001b[0m\u001b[1;33m)\u001b[0m\u001b[1;33m\u001b[0m\u001b[1;33m\u001b[0m\u001b[0m\n\u001b[0;32m      9\u001b[0m \u001b[1;33m\u001b[0m\u001b[0m\n",
      "\u001b[1;32m~\\AppData\\Local\\Temp/ipykernel_19460/3490624583.py\u001b[0m in \u001b[0;36mrecall_at_k\u001b[1;34m(doc_score, y_score, k)\u001b[0m\n\u001b[0;32m     14\u001b[0m     \u001b[0morder\u001b[0m \u001b[1;33m=\u001b[0m \u001b[0mnp\u001b[0m\u001b[1;33m.\u001b[0m\u001b[0margsort\u001b[0m\u001b[1;33m(\u001b[0m\u001b[0my_score\u001b[0m\u001b[1;33m)\u001b[0m\u001b[1;33m[\u001b[0m\u001b[1;33m:\u001b[0m\u001b[1;33m:\u001b[0m\u001b[1;33m-\u001b[0m\u001b[1;36m1\u001b[0m\u001b[1;33m]\u001b[0m\u001b[1;33m\u001b[0m\u001b[1;33m\u001b[0m\u001b[0m\n\u001b[0;32m     15\u001b[0m     \u001b[0mdoc_score\u001b[0m \u001b[1;33m=\u001b[0m \u001b[0mnp\u001b[0m\u001b[1;33m.\u001b[0m\u001b[0mtake\u001b[0m\u001b[1;33m(\u001b[0m\u001b[0mdoc_score\u001b[0m\u001b[1;33m,\u001b[0m \u001b[0morder\u001b[0m\u001b[1;33m[\u001b[0m\u001b[1;33m:\u001b[0m\u001b[0mk\u001b[0m\u001b[1;33m]\u001b[0m\u001b[1;33m)\u001b[0m\u001b[1;33m\u001b[0m\u001b[1;33m\u001b[0m\u001b[0m\n\u001b[1;32m---> 16\u001b[1;33m     \u001b[0mall_relevants\u001b[0m \u001b[1;33m=\u001b[0m \u001b[0msum\u001b[0m\u001b[1;33m(\u001b[0m\u001b[0mnp\u001b[0m\u001b[1;33m.\u001b[0m\u001b[0mtake\u001b[0m\u001b[1;33m(\u001b[0m\u001b[0mdoc_score\u001b[0m\u001b[1;33m)\u001b[0m \u001b[1;33m==\u001b[0m \u001b[1;36m1\u001b[0m\u001b[1;33m)\u001b[0m\u001b[1;33m\u001b[0m\u001b[1;33m\u001b[0m\u001b[0m\n\u001b[0m\u001b[0;32m     17\u001b[0m     \u001b[0mrelevant\u001b[0m \u001b[1;33m=\u001b[0m \u001b[0msum\u001b[0m\u001b[1;33m(\u001b[0m\u001b[0mdoc_score\u001b[0m \u001b[1;33m==\u001b[0m \u001b[1;36m1\u001b[0m\u001b[1;33m)\u001b[0m\u001b[1;33m\u001b[0m\u001b[1;33m\u001b[0m\u001b[0m\n\u001b[0;32m     18\u001b[0m     \u001b[1;32mreturn\u001b[0m \u001b[0mfloat\u001b[0m\u001b[1;33m(\u001b[0m\u001b[0mrelevant\u001b[0m\u001b[1;33m)\u001b[0m \u001b[1;33m/\u001b[0m \u001b[0mall_relevants\u001b[0m\u001b[1;33m\u001b[0m\u001b[1;33m\u001b[0m\u001b[0m\n",
      "\u001b[1;32m<__array_function__ internals>\u001b[0m in \u001b[0;36mtake\u001b[1;34m(*args, **kwargs)\u001b[0m\n",
      "\u001b[1;31mTypeError\u001b[0m: _take_dispatcher() missing 1 required positional argument: 'indices'"
     ]
    }
   ],
   "source": [
    "# Check for query 0\n",
    "\n",
    "current_query = 0\n",
    "current_query_res = search_results[search_results[\"query_id\"] == current_query]\n",
    "\n",
    "k = 5\n",
    "print(\"==> Precision@{}: {}\\n\".format(k, recall_at_k(current_query_res[\"is_relevant\"], current_query_res[\"predicted_relevance\"], k)))\n",
    "print(\"\\nCheck on the dataset sorted by score:\\n\")\n",
    "\n",
    "current_query_res.sort_values(\"predicted_relevance\", ascending=False).head(k)"
   ]
  },
  {
   "cell_type": "code",
   "execution_count": 230,
   "id": "b0bfe3de",
   "metadata": {},
   "outputs": [],
   "source": [
    "def avg_precision_at_k(doc_score, y_score, k=10): #binary relevance, predicted relevance, k for a given query\n",
    "    \"\"\"\n",
    "    Parameters\n",
    "    ----------\n",
    "    doc_score: Ground truth (true relevance labels).\n",
    "    y_score: Predicted scores.\n",
    "    k : number of doc to consider.\n",
    "\n",
    "    Returns\n",
    "    -------\n",
    "    average precision @k : float\n",
    "    \"\"\"\n",
    "    gtp = np.sum(doc_score == 1) #Total number of gt positives\n",
    "    order = np.argsort(y_score)[::-1] #same as for precision\n",
    "    doc_score = np.take(doc_score, order[:k]) #same as for precision\n",
    "    ## if all documents are not relevant\n",
    "    if gtp == 0:\n",
    "        return 0\n",
    "    n_relevant_at_i = 0\n",
    "    prec_at_i = 0\n",
    "    for i in range(len(doc_score)):\n",
    "        if doc_score[i] == 1: #only add the P@k when the doc is relevant\n",
    "            n_relevant_at_i += 1\n",
    "            prec_at_i += n_relevant_at_i / (i + 1) #calculate P@K (#docs relevant at k/k)\n",
    "    return prec_at_i / gtp #return ap"
   ]
  },
  {
   "cell_type": "code",
   "execution_count": 231,
   "id": "eb626341",
   "metadata": {},
   "outputs": [
    {
     "data": {
      "text/plain": [
       "0.7347222222222223"
      ]
     },
     "execution_count": 231,
     "metadata": {},
     "output_type": "execute_result"
    }
   ],
   "source": [
    "avg_precision_at_k(np.array(current_query_res[\"is_relevant\"]), np.array(current_query_res[\"predicted_relevance\"]), 150)\n",
    "#avg_precision_at_k(np.array([1,0,0,1,1,0]), np.array([0.9,0.8,0.7,0.6,0.5, 0.4]),6)"
   ]
  },
  {
   "cell_type": "code",
   "execution_count": 232,
   "id": "10a4eb64",
   "metadata": {},
   "outputs": [
    {
     "data": {
      "text/plain": [
       "0.7270833333333334"
      ]
     },
     "execution_count": 232,
     "metadata": {},
     "output_type": "execute_result"
    }
   ],
   "source": [
    "# Check with 'average_precision_score' of 'sklearn' library\n",
    "\n",
    "from sklearn.metrics import average_precision_score\n",
    "\n",
    "k = 150\n",
    "temp = current_query_res.sort_values(\"predicted_relevance\", ascending=False).head(k)\n",
    "average_precision_score(np.array(temp[\"is_relevant\"]), np.array(temp[\"predicted_relevance\"][:k]))"
   ]
  },
  {
   "cell_type": "code",
   "execution_count": 233,
   "id": "86cc8eb7",
   "metadata": {},
   "outputs": [],
   "source": [
    "def f1_score(precision,recall):\n",
    "    return 2*(precision*recall)/(precision+recall)"
   ]
  },
  {
   "cell_type": "code",
   "execution_count": 234,
   "id": "f6ba440c",
   "metadata": {},
   "outputs": [],
   "source": [
    "def map_at_k(search_res, k=10): #receives all the search esults dataframe containing all the queries and the results and relevances\n",
    "    \"\"\"\n",
    "    Parameters\n",
    "    ----------\n",
    "    search_res: search results dataset containing:\n",
    "        query_id: query id.\n",
    "        doc_id: document id.\n",
    "        predicted_relevance: relevance predicted through LightGBM.\n",
    "        doc_score: actual score of the document for the query (ground truth).\n",
    "\n",
    "    Returns\n",
    "    -------\n",
    "    mean average precision @ k : float\n",
    "    \"\"\"\n",
    "    avp = []\n",
    "    for q in search_res[\"query_id\"].unique():  # loop over all query ids\n",
    "        curr_data = search_res[search_res[\"query_id\"] == q]  # select data for current query (get a slice of the dataframe keeping only the data related to the current query)\n",
    "        avp.append(avg_precision_at_k(np.array(curr_data[\"is_relevant\"]), \n",
    "                   np.array(curr_data[\"predicted_relevance\"]), k))  #append average precision for current query\n",
    "    return np.sum(avp) / len(avp), avp  # return mean average precision"
   ]
  },
  {
   "cell_type": "code",
   "execution_count": 235,
   "id": "ec38448e",
   "metadata": {},
   "outputs": [
    {
     "data": {
      "text/plain": [
       "0.6532369614512472"
      ]
     },
     "execution_count": 235,
     "metadata": {},
     "output_type": "execute_result"
    }
   ],
   "source": [
    "map_k, avp = map_at_k(search_results, 10)\n",
    "map_k"
   ]
  },
  {
   "cell_type": "code",
   "execution_count": 236,
   "id": "07aa7829",
   "metadata": {},
   "outputs": [],
   "source": [
    "\n",
    "def rr_at_k(doc_score, y_score, k=10):\n",
    "    \"\"\"\n",
    "    Parameters\n",
    "    ----------\n",
    "    doc_score: Ground truth (true relevance labels).\n",
    "    y_score: Predicted scores.\n",
    "    k : number of doc to consider.\n",
    "\n",
    "    Returns\n",
    "    -------\n",
    "    Reciprocal Rank for qurrent query\n",
    "    \"\"\"\n",
    "\n",
    "    order = np.argsort(y_score)[::-1]  # get the list of indexes of the predicted score sorted in descending order. As before\n",
    "    doc_score = np.take(doc_score, order[\n",
    "                             :k])  # sort the actual relevance label of the documents based on predicted score(hint: np.take) and take first k. As before\n",
    "    if np.sum(doc_score) == 0:  # if there are not relevant doument return 0\n",
    "        return 0\n",
    "    return 1 / (np.argmax(doc_score == 1) + 1)  # hint: to get the position of the first relevant document use \"np.argmax\" (+1 because the idex starts from 0)\n"
   ]
  },
  {
   "cell_type": "code",
   "execution_count": 237,
   "id": "16012254",
   "metadata": {},
   "outputs": [
    {
     "data": {
      "text/plain": [
       "0.5"
      ]
     },
     "execution_count": 237,
     "metadata": {},
     "output_type": "execute_result"
    }
   ],
   "source": [
    "rr_at_k(np.array(current_query_res[\"is_relevant\"]), np.array(current_query_res[\"predicted_relevance\"]), 5)"
   ]
  },
  {
   "cell_type": "code",
   "execution_count": 238,
   "id": "3117a916",
   "metadata": {},
   "outputs": [],
   "source": [
    "def dcg_at_k(doc_score, y_score, k=10): #doc_scire are the labels (ground truth) and y_score are the system scores\n",
    "    order = np.argsort(y_score)[::-1]  # get the list of indexes of the predicted score sorted in descending order.\n",
    "    doc_score = np.take(doc_score, order[:k])  # sort the actual relevance label of the documents based on predicted score(hint: np.take) and take first k.\n",
    "    gain = 2 ** doc_score - 1  # First we calculate the upper part of the formula which is the CG (use formula 7 above) (notice it is based on the ground truth relevance)\n",
    "    discounts = np.log2(np.arange(len(doc_score)) + 2)  # Compute denominator (np.arrange creates a list of numbers betweeen 0 and len(doc_score)-1), then the + 2 addresses the fact that the numbers start from 0\n",
    "    return np.sum(gain / discounts)  #return dcg@k\n",
    "\n",
    "\n",
    "def ndcg_at_k(doc_score, y_score, k=10):\n",
    "    dcg_max = dcg_at_k(doc_score, doc_score, k) #ideal dcg\n",
    "    #print(dcg_max)\n",
    "    if not dcg_max:\n",
    "        return 0\n",
    "    return np.round(dcg_at_k(doc_score, y_score, k) / dcg_max, 4)"
   ]
  },
  {
   "cell_type": "code",
   "execution_count": 240,
   "id": "3305ee73",
   "metadata": {},
   "outputs": [
    {
     "name": "stdout",
     "output_type": "stream",
     "text": [
      "ndcg@10 for query with query_id=0: 0.812\n"
     ]
    }
   ],
   "source": [
    "query_id = 0\n",
    "k = 10\n",
    "labels = np.array(search_results[search_results['query_id'] == query_id][\"is_relevant\"])\n",
    "scores = np.array(search_results[search_results['query_id'] == query_id][\"predicted_relevance\"])\n",
    "ndcg_k = np.round(ndcg_at_k(labels, scores, k), 4)\n",
    "print(\"ndcg@{} for query with query_id={}: {}\".format(k, query_id, ndcg_k))\n",
    "\n"
   ]
  },
  {
   "cell_type": "code",
   "execution_count": 242,
   "id": "7409b0ab",
   "metadata": {},
   "outputs": [
    {
     "name": "stdout",
     "output_type": "stream",
     "text": [
      "\n",
      "==> For Query 0 Precision@10: 0.8\n",
      "Average Precission@10 for query with q_id=0: 0.7347222222222223\n",
      "ndcg@10 for query with q_id=0: 0.812\n",
      "\n",
      "==> For Query 1 Precision@10: 0.7\n",
      "Average Precission@10 for query with q_id=1: 0.6925170068027212\n",
      "ndcg@10 for query with q_id=1: 0.812\n",
      "\n",
      "==> For Query 2 Precision@10: 0.5\n",
      "Average Precission@10 for query with q_id=2: 0.4412698412698413\n",
      "ndcg@10 for query with q_id=2: 0.812\n",
      "\n",
      "==> For Query 3 Precision@10: 0.5\n",
      "Average Precission@10 for query with q_id=3: 0.5059523809523809\n",
      "ndcg@10 for query with q_id=3: 0.812\n",
      "\n",
      "==> For Query 4 Precision@10: 0.7\n",
      "Average Precission@10 for query with q_id=4: 0.8917233560090703\n",
      "ndcg@10 for query with q_id=4: 0.812\n",
      "\n",
      "MAP@10: 0.6532369614512472\n",
      "MRR@10: 1.0\n"
     ]
    }
   ],
   "source": [
    "#All evaluations techniques for all queries\n",
    "k = 10\n",
    "for i in range(5):\n",
    "    current_query = i\n",
    "    current_query_res = search_results[search_results[\"query_id\"] == current_query] \n",
    "    print(\"\\n==> For Query {} Precision@{}: {}\".format(current_query, k,\n",
    "                                precision_at_k(np.array(current_query_res[\"is_relevant\"]), np.array(current_query_res[\"predicted_relevance\"]), k)))\n",
    "    \n",
    "    print(\"Average Precission@{} for query with q_id={}: {}\".format(k,current_query,avg_precision_at_k(np.array(current_query_res[\"is_relevant\"]), np.array(current_query_res[\"predicted_relevance\"]), 150)))\n",
    "\n",
    "    \n",
    "\n",
    "    labels = np.array(search_results[search_results['query_id'] == query_id][\"is_relevant\"])\n",
    "    scores = np.array(search_results[search_results['query_id'] == query_id][\"predicted_relevance\"])\n",
    "    ndcg_k = np.round(ndcg_at_k(labels, scores, k),4)\n",
    "    print(\"ndcg@{} for query with q_id={}: {}\".format(k,current_query,ndcg_k))\n",
    "\n",
    "map_k, avp = map_at_k(search_results, k)\n",
    "print(\"\\nMAP@{}: {}\".format(k,map_k))\n",
    "\n",
    "print(\"MRR@{}: {}\".format(k,rr_at_k(np.array(current_query_res[\"is_relevant\"]), np.array(current_query_res[\"predicted_relevance\"]), k)))"
   ]
  },
  {
   "cell_type": "code",
   "execution_count": null,
   "id": "c1489047",
   "metadata": {},
   "outputs": [],
   "source": [
    "from gensim.models.word2vec import Word2Vec\n",
    "from sklearn.manifold import TSNE\n",
    "import matplotlib.pyplot as plt\n",
    "clean_tweets = []\n",
    "for tweet in lines: \n",
    "        #get the terms cleaned \n",
    "        clean_tweets.append(build_terms(tweet['full_text']))\n",
    "\n",
    "model = Word2Vec(clean_tweets, workers=4, min_count=50, window=10, sample=1e-3)\n",
    "\n",
    "#print (model.wv.most_similar('memory'))\n",
    "\n",
    "X = model.wv[model.wv.key_to_index]\n",
    "\n",
    "tsne = TSNE(n_components=2)\n",
    "X_tsne = tsne.fit_transform(X)\n",
    "\n",
    "plt.scatter(X_tsne[:, 0], X_tsne[:, 1])\n",
    "plt.show()"
   ]
  },
  {
   "cell_type": "code",
   "execution_count": 247,
   "id": "0b37594a",
   "metadata": {},
   "outputs": [],
   "source": [
    "from gensim.models.word2vec import Word2Vec\n",
    "from sklearn.manifold import TSNE\n",
    "from sklearn.datasets import fetch_20newsgroups\n",
    "import re\n",
    "import matplotlib.pyplot as plt\n",
    "\n",
    "def tsne_plot(model):\n",
    "    \"Creates and TSNE model and plots it\"\n",
    "    '''\n",
    "    Parameters\n",
    "    ----------\n",
    "    model: model Word2Vec \n",
    "\n",
    "    '''\n",
    "    \n",
    "    labels = []\n",
    "    tokens = []\n",
    "    \n",
    "    X = model.wv #word vectors of the model\n",
    "    \n",
    "    #for word in X.index2word:\n",
    "    for word in X.index_to_key: #loop over all words\n",
    "        tokens.append(X[word]) #append the array of distances (distance from this word to the others)\n",
    "        labels.append(word) #append all words to labels array\n",
    "    tokens = np.array(tokens)\n",
    "    \n",
    "    tsne_model = TSNE(perplexity=40, n_components=2, init='pca', n_iter=2500, random_state=23) #create TSNE model\n",
    "    new_values = tsne_model.fit_transform(tokens) #Fit the TSNE model with our distance matrix\n",
    "\n",
    "    #Prepare the scatter plot of all words\n",
    "    x = []\n",
    "    y = []\n",
    "    for value in new_values:\n",
    "        x.append(value[0])\n",
    "        y.append(value[1])\n",
    "        \n",
    "    plt.figure(figsize=(15,15)) \n",
    "    for i in range(len(x)):\n",
    "        plt.scatter(x[i],y[i])\n",
    "        plt.annotate(labels[i],\n",
    "                     xy=(x[i], y[i]),\n",
    "                     xytext=(5, 2),\n",
    "                     textcoords='offset points',\n",
    "                     ha='right',\n",
    "                     va='bottom')\n",
    "    plt.show()"
   ]
  },
  {
   "cell_type": "code",
   "execution_count": 248,
   "id": "7a647c92",
   "metadata": {},
   "outputs": [
    {
     "name": "stderr",
     "output_type": "stream",
     "text": [
      "C:\\Users\\jordi\\anaconda3\\lib\\site-packages\\sklearn\\manifold\\_t_sne.py:810: FutureWarning: The default learning rate in TSNE will change from 200.0 to 'auto' in 1.2.\n",
      "  warnings.warn(\n",
      "C:\\Users\\jordi\\anaconda3\\lib\\site-packages\\sklearn\\manifold\\_t_sne.py:996: FutureWarning: The PCA initialization in TSNE will change to have the standard deviation of PC1 equal to 1e-4 in 1.2. This will ensure better convergence.\n",
      "  warnings.warn(\n"
     ]
    },
    {
     "data": {
      "image/png": "[encoded data removed]",
      "text/plain": [
       "<Figure size 1080x1080 with 1 Axes>"
      ]
     },
     "metadata": {
      "needs_background": "light"
     },
     "output_type": "display_data"
    }
   ],
   "source": [
    "clean_tweets = []\n",
    "for tweet in lines: \n",
    "        #get the terms cleaned \n",
    "        clean_tweets.append(build_terms(tweet['full_text']))\n",
    "model = Word2Vec(clean_tweets, workers=4, min_count=50, window=10, sample=1e-3)\n",
    "tsne_plot(model)"
   ]
  },
  {
   "cell_type": "code",
   "execution_count": null,
   "id": "3866664a",
   "metadata": {},
   "outputs": [],
   "source": []
  }
 ],
 "metadata": {
  "kernelspec": {
   "display_name": "Python 3 (ipykernel)",
   "language": "python",
   "name": "python3"
  },
  "language_info": {
   "codemirror_mode": {
    "name": "ipython",
    "version": 3
   },
   "file_extension": ".py",
   "mimetype": "text/x-python",
   "name": "python",
   "nbconvert_exporter": "python",
   "pygments_lexer": "ipython3",
   "version": "3.9.12"
  }
 },
 "nbformat": 4,
 "nbformat_minor": 5
}
